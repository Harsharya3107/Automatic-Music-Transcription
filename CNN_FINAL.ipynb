{
  "nbformat": 4,
  "nbformat_minor": 0,
  "metadata": {
    "colab": {
      "name": "CNN_FINAL.ipynb",
      "provenance": [],
      "collapsed_sections": [],
      "include_colab_link": true
    },
    "kernelspec": {
      "name": "python3",
      "display_name": "Python 3"
    },
    "language_info": {
      "name": "python"
    },
    "accelerator": "GPU"
  },
  "cells": [
    {
      "cell_type": "markdown",
      "metadata": {
        "id": "view-in-github",
        "colab_type": "text"
      },
      "source": [
        "<a href=\"https://colab.research.google.com/github/Harsharya3107/Automatic-Music-Transcription/blob/main/CNN_FINAL.ipynb\" target=\"_parent\"><img src=\"https://colab.research.google.com/assets/colab-badge.svg\" alt=\"Open In Colab\"/></a>"
      ]
    },
    {
      "cell_type": "code",
      "metadata": {
        "id": "T2pxbSvIWF_H"
      },
      "source": [
        "import tensorflow as tf\n",
        "from tensorflow.keras import Sequential\n",
        "from tensorflow.keras import Input\n",
        "import numpy as np \n",
        "import pandas as pd \n",
        "import os\n",
        "\n",
        "from keras.layers import Conv2D, MaxPool2D, add,Dropout,Dense,Flatten\n",
        "from keras.layers.normalization import BatchNormalization\n",
        "from keras.optimizers import Adam"
      ],
      "execution_count": null,
      "outputs": []
    },
    {
      "cell_type": "code",
      "metadata": {
        "id": "uC9E_DAojOQp",
        "colab": {
          "base_uri": "https://localhost:8080/"
        },
        "outputId": "5e036d5d-e5a8-47d4-f620-aec3ea6de819"
      },
      "source": [
        "from google.colab import drive\n",
        "drive.mount('/content/drive')"
      ],
      "execution_count": null,
      "outputs": [
        {
          "output_type": "stream",
          "text": [
            "Drive already mounted at /content/drive; to attempt to forcibly remount, call drive.mount(\"/content/drive\", force_remount=True).\n"
          ],
          "name": "stdout"
        }
      ]
    },
    {
      "cell_type": "code",
      "metadata": {
        "id": "vwl1bjNLyQhc"
      },
      "source": [
        "mini_batch_size = 512\n",
        "lr=0.1"
      ],
      "execution_count": null,
      "outputs": []
    },
    {
      "cell_type": "code",
      "metadata": {
        "colab": {
          "base_uri": "https://localhost:8080/"
        },
        "id": "ZkwmQ1oBjStk",
        "outputId": "4e84fe19-4ea3-489c-ca19-975beb454712"
      },
      "source": [
        "fwavpath ='/content/drive/MyDrive/train/wav'\n",
        "train_files = [f1 for f1 in os.listdir(fwavpath)]\n",
        "num_batches =  len(train_files)\n",
        "print(num_batches)\n",
        "# Y_t = np.array(np.load(os.path.join(fmidpath,ytrain_files[i])))\n",
        "\n",
        "for i in range((int)(num_batches)):\n",
        "  \n",
        "  X_t = np.array(np.load(os.path.join(fwavpath,train_files[i])))\n",
        "  if(np.size(X_t,1)<252):\n",
        "    num_missing = 252-np.size(X_t,1)\n",
        "    X_t = np.pad(X_t,(0,num_missing))\n",
        "  if i==0:\n",
        "    X=X_t\n",
        "  else:\n",
        "    X=np.concatenate((X,X_t), axis = 0)\n",
        "  \n",
        "print(X.shape)"
      ],
      "execution_count": null,
      "outputs": [
        {
          "output_type": "stream",
          "text": [
            "180\n",
            "(3728268, 252)\n"
          ],
          "name": "stdout"
        }
      ]
    },
    {
      "cell_type": "code",
      "metadata": {
        "id": "mz9UNYJHys5y",
        "colab": {
          "base_uri": "https://localhost:8080/"
        },
        "outputId": "afe8a4b7-8356-4980-be8c-b209ded9ba61"
      },
      "source": [
        "fmidpath ='/content/drive/MyDrive/train/mid'\n",
        "ytrain_files = [f1 for f1 in os.listdir(fmidpath)]\n",
        "num_batches =  len(ytrain_files)\n",
        "print(num_batches)\n",
        "# Y_t = np.array(np.load(os.path.join(fmidpath,ytrain_files[i])))\n",
        "\n",
        "for i in range((int)(num_batches)):\n",
        "  \n",
        "  Y_t = np.array(np.load(os.path.join(fmidpath,ytrain_files[i])))\n",
        "  if(np.size(Y_t,1)<88):\n",
        "    num_missing = 88-np.size(Y_t,1)\n",
        "    Y_t = np.pad(Y_t,(0,num_missing))\n",
        "  if i==0:\n",
        "    Y=Y_t\n",
        "  else:\n",
        "    Y=np.concatenate((Y,Y_t), axis = 0)\n",
        "  \n",
        "print(Y.shape)"
      ],
      "execution_count": null,
      "outputs": [
        {
          "output_type": "stream",
          "text": [
            "180\n",
            "(3728268, 88)\n"
          ],
          "name": "stdout"
        }
      ]
    },
    {
      "cell_type": "code",
      "metadata": {
        "id": "De_0MHCIjZHO"
      },
      "source": [
        "# for i in range(int(num_batches)):\n",
        "\n",
        "#   if train_files[i].find(\"CQT\")!=-1:\n",
        "#     X_t = np.array(np.load(os.path.join(fpath,train_files[i])))\n",
        "    \n",
        "#   if train_files[i].find(\"label\")!=-1 :\n",
        "#     Y_t = np.array(np.load(os.path.join(fpath,train_files[i])))\n",
        "    \n",
        "#   if i==0:\n",
        "#     X= X_t\n",
        "#     Y= Y_t\n",
        "#   else:\n",
        "#     X=np.concatenate((X,X_t), axis = 0)\n",
        "#     Y=np.concatenate((Y,Y_t), axis = 0)\n",
        "# print(X.shape)\n",
        "# print(Y.shape)"
      ],
      "execution_count": null,
      "outputs": []
    },
    {
      "cell_type": "code",
      "metadata": {
        "id": "gl5WAdtVdQ7q",
        "colab": {
          "base_uri": "https://localhost:8080/"
        },
        "outputId": "58239e61-801f-40e3-d24c-32a69dc2f2e0"
      },
      "source": [
        "X=X[:Y.shape[0],:]\n",
        "print(X.shape)"
      ],
      "execution_count": null,
      "outputs": [
        {
          "output_type": "stream",
          "text": [
            "(3728268, 252)\n"
          ],
          "name": "stdout"
        }
      ]
    },
    {
      "cell_type": "code",
      "metadata": {
        "id": "HnTRxph_j0au"
      },
      "source": [
        "from sklearn.model_selection import train_test_split\n",
        "test_size = 0.2\n",
        "validation_size = 0.2\n",
        "#train test split\n",
        "X_train, X_test, y_train, y_test = train_test_split(X,Y,test_size=test_size)\n",
        "    \n",
        "# create train validation split\n",
        "X_train, X_validation, y_train, y_validation = train_test_split(X_train, y_train, test_size=validation_size)"
      ],
      "execution_count": null,
      "outputs": []
    },
    {
      "cell_type": "code",
      "metadata": {
        "id": "8WHpSdposTkJ",
        "colab": {
          "base_uri": "https://localhost:8080/"
        },
        "outputId": "a4de06bd-170e-4f37-9fda-eae67073e73a"
      },
      "source": [
        "X_train = X_train[:int(X_train.shape[0]/mini_batch_size)*mini_batch_size,:]\n",
        "print(X_train.shape)"
      ],
      "execution_count": null,
      "outputs": [
        {
          "output_type": "stream",
          "text": [
            "(2385920, 252)\n"
          ],
          "name": "stdout"
        }
      ]
    },
    {
      "cell_type": "code",
      "metadata": {
        "id": "xKiU1ADOsUbB",
        "colab": {
          "base_uri": "https://localhost:8080/"
        },
        "outputId": "f726f3c7-c714-4a86-9422-fbce3c0161fe"
      },
      "source": [
        "y_train = y_train[:int(y_train.shape[0]/mini_batch_size)*mini_batch_size,:]\n",
        "print(y_train.shape)"
      ],
      "execution_count": null,
      "outputs": [
        {
          "output_type": "stream",
          "text": [
            "(2385920, 88)\n"
          ],
          "name": "stdout"
        }
      ]
    },
    {
      "cell_type": "code",
      "metadata": {
        "id": "W8huaXLNdvsz"
      },
      "source": [
        "X_train=X_train.reshape(list(X_train.shape) + [1])\n",
        "X_train=X_train.reshape(list(X_train.shape) + [1])"
      ],
      "execution_count": null,
      "outputs": []
    },
    {
      "cell_type": "code",
      "metadata": {
        "id": "8L0NefLiMxgB"
      },
      "source": [
        "X_validation=X_validation.reshape(list(X_validation.shape) + [1])\n",
        "X_validation=X_validation.reshape(list(X_validation.shape) + [1])"
      ],
      "execution_count": null,
      "outputs": []
    },
    {
      "cell_type": "code",
      "metadata": {
        "id": "_z5TfRCPkA_t",
        "colab": {
          "base_uri": "https://localhost:8080/"
        },
        "outputId": "985c0c26-748f-4b74-9796-6356b8e1ca3b"
      },
      "source": [
        "print(X_train.shape)\n",
        "print(y_train.shape)"
      ],
      "execution_count": null,
      "outputs": [
        {
          "output_type": "stream",
          "text": [
            "(2385920, 252, 1, 1)\n",
            "(2385920, 88)\n"
          ],
          "name": "stdout"
        }
      ]
    },
    {
      "cell_type": "code",
      "metadata": {
        "id": "M0Zx4YRhj2FU"
      },
      "source": [
        "y_train_bool = np.bool_(y_train)\n",
        "mini_batch_size = 8\n",
        "minibatch= True"
      ],
      "execution_count": null,
      "outputs": []
    },
    {
      "cell_type": "code",
      "metadata": {
        "id": "HdwSG7TUj5tw"
      },
      "source": [
        "train_data = tf.data.Dataset.from_tensor_slices((X_train,y_train_bool))\n",
        "train_data = train_data.batch(mini_batch_size)\n",
        "\n",
        "validation_data = tf.data.Dataset.from_tensor_slices((X_validation,y_validation))\n",
        "validation_data = validation_data.batch(mini_batch_size)"
      ],
      "execution_count": null,
      "outputs": []
    },
    {
      "cell_type": "code",
      "metadata": {
        "id": "MxZrSgJ_dh1T",
        "colab": {
          "base_uri": "https://localhost:8080/"
        },
        "outputId": "48b10f51-5c9a-47c0-dd73-7aa8cb7cb39f"
      },
      "source": [
        "print(train_data)"
      ],
      "execution_count": null,
      "outputs": [
        {
          "output_type": "stream",
          "text": [
            "<BatchDataset shapes: ((None, 252, 1, 1), (None, 88)), types: (tf.float32, tf.bool)>\n"
          ],
          "name": "stdout"
        }
      ]
    },
    {
      "cell_type": "code",
      "metadata": {
        "id": "HlRDYMOXvBB8"
      },
      "source": [
        "window_size=7\n",
        "min_midi = 21\n",
        "max_midi = 108\n",
        "note_range = max_midi - min_midi + 1\n"
      ],
      "execution_count": null,
      "outputs": []
    },
    {
      "cell_type": "code",
      "metadata": {
        "id": "I5s9rcwEj_FL"
      },
      "source": [
        "input_shape=(int(X_train.shape[0]/mini_batch_size),88,1,88) #number of samples\n",
        "model=Sequential()\n",
        "#stage1\n",
        "model.add(Conv2D(filters=32, kernel_size=(5,5),padding=\"same\", activation='relu', input_shape=input_shape))\n",
        "model.add(BatchNormalization())\n",
        "model.add(Dropout(rate=0.2))\n",
        "\n",
        "#stage2\n",
        "model.add(Conv2D(filters=32, kernel_size=(3, 3),padding=\"same\", activation='relu'))\n",
        "model.add(BatchNormalization())\n",
        "model.add(Dropout(rate=0.2))\n",
        "model.add(MaxPool2D(pool_size=(2, 2),padding=\"same\"))\n",
        "\n",
        "model.add(Flatten())\n",
        "#stage3\n",
        "model.add(Dense(1000  , activation ='relu'))\n",
        "model.add(BatchNormalization())\n",
        "model.add(Dropout(rate=0.5))\n",
        "\n",
        "#stage4\n",
        "model.add(Dense(200, activation='relu'))\n",
        "model.add(BatchNormalization())\n",
        "model.add(Dropout(rate=0.5))\n",
        "\n",
        "#stage5\n",
        "model.add(Dense(88, activation='softmax'))"
      ],
      "execution_count": null,
      "outputs": []
    },
    {
      "cell_type": "code",
      "metadata": {
        "id": "B6YkMthtTE4i"
      },
      "source": [
        "# input_shape=(int(X_train.shape[0]/400),88,1,88) #number of samples\n",
        "# model=Sequential()\n",
        "# #stage1\n",
        "# model.add(Conv2D(filters=64, kernel_size=(5,4),padding=\"same\", activation='relu', input_shape=input_shape))\n",
        "# model.add(BatchNormalization())\n",
        "# model.add(Dropout(rate=0.2))\n",
        "\n",
        "# #stage2\n",
        "# model.add(Conv2D(filters=64, kernel_size=(3, 3),padding=\"same\", activation='relu'))\n",
        "# model.add(BatchNormalization())\n",
        "# model.add(Dropout(rate=0.2))\n",
        "# model.add(MaxPool2D(pool_size=(1, 2),padding=\"same\"))\n",
        "\n",
        "# model.add(Flatten())\n",
        "# #stage3\n",
        "# model.add(Dense(1024 , activation ='relu'))\n",
        "# model.add(BatchNormalization())\n",
        "# model.add(Dropout(rate=0.5))\n",
        "\n",
        "# #stage4\n",
        "# model.add(Dense(512, activation='relu'))\n",
        "# model.add(BatchNormalization())\n",
        "# model.add(Dropout(rate=0.5))\n",
        "\n",
        "# #stage5\n",
        "# model.add(Dense(88, activation='sigmoid'))"
      ],
      "execution_count": null,
      "outputs": []
    },
    {
      "cell_type": "code",
      "metadata": {
        "id": "-r-7rgbykCNm",
        "colab": {
          "base_uri": "https://localhost:8080/",
          "height": 612
        },
        "outputId": "4faff295-d04d-42c3-b04e-188e3f91a07e"
      },
      "source": [
        "optimizer1 = Adam(learning_rate=0.001)\n",
        "model.compile(loss='binary_crossentropy', optimizer= optimizer1, metrics=['accuracy'])\n",
        "model.fit(X_train,y_train,epochs=30,batch_size=mini_batch_size,validation_data=validation_data, verbose = 1)"
      ],
      "execution_count": null,
      "outputs": [
        {
          "output_type": "stream",
          "text": [
            "Epoch 1/30\n",
            "298240/298240 [==============================] - 1246s 4ms/step - loss: 0.0837 - accuracy: 0.3247 - val_loss: 0.0794 - val_accuracy: 0.3403\n",
            "Epoch 2/30\n",
            "298240/298240 [==============================] - 1208s 4ms/step - loss: 0.0753 - accuracy: 0.3424 - val_loss: 0.0978 - val_accuracy: 0.3475\n",
            "Epoch 3/30\n",
            "298240/298240 [==============================] - 1218s 4ms/step - loss: 0.0734 - accuracy: 0.3452 - val_loss: 0.0544 - val_accuracy: 0.3922\n",
            "Epoch 4/30\n",
            "298240/298240 [==============================] - 1205s 4ms/step - loss: 0.0723 - accuracy: 0.3462 - val_loss: 0.0825 - val_accuracy: 0.3633\n",
            "Epoch 5/30\n",
            "298240/298240 [==============================] - 1200s 4ms/step - loss: 0.0715 - accuracy: 0.3478 - val_loss: 0.0702 - val_accuracy: 0.3821\n",
            "Epoch 6/30\n",
            "298240/298240 [==============================] - 1199s 4ms/step - loss: 0.0708 - accuracy: 0.3485 - val_loss: 0.0591 - val_accuracy: 0.3877\n",
            "Epoch 7/30\n",
            "298240/298240 [==============================] - 1186s 4ms/step - loss: 0.0704 - accuracy: 0.3485 - val_loss: 0.1548 - val_accuracy: 0.3748\n",
            "Epoch 8/30\n",
            "  4920/298240 [..............................] - ETA: 17:42 - loss: 0.0702 - accuracy: 0.3508"
          ],
          "name": "stdout"
        },
        {
          "output_type": "error",
          "ename": "KeyboardInterrupt",
          "evalue": "ignored",
          "traceback": [
            "\u001b[0;31m---------------------------------------------------------------------------\u001b[0m",
            "\u001b[0;31mKeyboardInterrupt\u001b[0m                         Traceback (most recent call last)",
            "\u001b[0;32m<ipython-input-24-add6531db655>\u001b[0m in \u001b[0;36m<module>\u001b[0;34m()\u001b[0m\n\u001b[1;32m      1\u001b[0m \u001b[0moptimizer1\u001b[0m \u001b[0;34m=\u001b[0m \u001b[0mAdam\u001b[0m\u001b[0;34m(\u001b[0m\u001b[0mlearning_rate\u001b[0m\u001b[0;34m=\u001b[0m\u001b[0;36m0.001\u001b[0m\u001b[0;34m)\u001b[0m\u001b[0;34m\u001b[0m\u001b[0;34m\u001b[0m\u001b[0m\n\u001b[1;32m      2\u001b[0m \u001b[0mmodel\u001b[0m\u001b[0;34m.\u001b[0m\u001b[0mcompile\u001b[0m\u001b[0;34m(\u001b[0m\u001b[0mloss\u001b[0m\u001b[0;34m=\u001b[0m\u001b[0;34m'binary_crossentropy'\u001b[0m\u001b[0;34m,\u001b[0m \u001b[0moptimizer\u001b[0m\u001b[0;34m=\u001b[0m \u001b[0moptimizer1\u001b[0m\u001b[0;34m,\u001b[0m \u001b[0mmetrics\u001b[0m\u001b[0;34m=\u001b[0m\u001b[0;34m[\u001b[0m\u001b[0;34m'accuracy'\u001b[0m\u001b[0;34m]\u001b[0m\u001b[0;34m)\u001b[0m\u001b[0;34m\u001b[0m\u001b[0;34m\u001b[0m\u001b[0m\n\u001b[0;32m----> 3\u001b[0;31m \u001b[0mmodel\u001b[0m\u001b[0;34m.\u001b[0m\u001b[0mfit\u001b[0m\u001b[0;34m(\u001b[0m\u001b[0mX_train\u001b[0m\u001b[0;34m,\u001b[0m\u001b[0my_train\u001b[0m\u001b[0;34m,\u001b[0m\u001b[0mepochs\u001b[0m\u001b[0;34m=\u001b[0m\u001b[0;36m30\u001b[0m\u001b[0;34m,\u001b[0m\u001b[0mbatch_size\u001b[0m\u001b[0;34m=\u001b[0m\u001b[0mmini_batch_size\u001b[0m\u001b[0;34m,\u001b[0m\u001b[0mvalidation_data\u001b[0m\u001b[0;34m=\u001b[0m\u001b[0mvalidation_data\u001b[0m\u001b[0;34m,\u001b[0m \u001b[0mverbose\u001b[0m \u001b[0;34m=\u001b[0m \u001b[0;36m1\u001b[0m\u001b[0;34m)\u001b[0m\u001b[0;34m\u001b[0m\u001b[0;34m\u001b[0m\u001b[0m\n\u001b[0m",
            "\u001b[0;32m/usr/local/lib/python3.7/dist-packages/tensorflow/python/keras/engine/training.py\u001b[0m in \u001b[0;36mfit\u001b[0;34m(self, x, y, batch_size, epochs, verbose, callbacks, validation_split, validation_data, shuffle, class_weight, sample_weight, initial_epoch, steps_per_epoch, validation_steps, validation_batch_size, validation_freq, max_queue_size, workers, use_multiprocessing)\u001b[0m\n\u001b[1;32m   1181\u001b[0m                 _r=1):\n\u001b[1;32m   1182\u001b[0m               \u001b[0mcallbacks\u001b[0m\u001b[0;34m.\u001b[0m\u001b[0mon_train_batch_begin\u001b[0m\u001b[0;34m(\u001b[0m\u001b[0mstep\u001b[0m\u001b[0;34m)\u001b[0m\u001b[0;34m\u001b[0m\u001b[0;34m\u001b[0m\u001b[0m\n\u001b[0;32m-> 1183\u001b[0;31m               \u001b[0mtmp_logs\u001b[0m \u001b[0;34m=\u001b[0m \u001b[0mself\u001b[0m\u001b[0;34m.\u001b[0m\u001b[0mtrain_function\u001b[0m\u001b[0;34m(\u001b[0m\u001b[0miterator\u001b[0m\u001b[0;34m)\u001b[0m\u001b[0;34m\u001b[0m\u001b[0;34m\u001b[0m\u001b[0m\n\u001b[0m\u001b[1;32m   1184\u001b[0m               \u001b[0;32mif\u001b[0m \u001b[0mdata_handler\u001b[0m\u001b[0;34m.\u001b[0m\u001b[0mshould_sync\u001b[0m\u001b[0;34m:\u001b[0m\u001b[0;34m\u001b[0m\u001b[0;34m\u001b[0m\u001b[0m\n\u001b[1;32m   1185\u001b[0m                 \u001b[0mcontext\u001b[0m\u001b[0;34m.\u001b[0m\u001b[0masync_wait\u001b[0m\u001b[0;34m(\u001b[0m\u001b[0;34m)\u001b[0m\u001b[0;34m\u001b[0m\u001b[0;34m\u001b[0m\u001b[0m\n",
            "\u001b[0;32m/usr/local/lib/python3.7/dist-packages/tensorflow/python/eager/def_function.py\u001b[0m in \u001b[0;36m__call__\u001b[0;34m(self, *args, **kwds)\u001b[0m\n\u001b[1;32m    887\u001b[0m \u001b[0;34m\u001b[0m\u001b[0m\n\u001b[1;32m    888\u001b[0m       \u001b[0;32mwith\u001b[0m \u001b[0mOptionalXlaContext\u001b[0m\u001b[0;34m(\u001b[0m\u001b[0mself\u001b[0m\u001b[0;34m.\u001b[0m\u001b[0m_jit_compile\u001b[0m\u001b[0;34m)\u001b[0m\u001b[0;34m:\u001b[0m\u001b[0;34m\u001b[0m\u001b[0;34m\u001b[0m\u001b[0m\n\u001b[0;32m--> 889\u001b[0;31m         \u001b[0mresult\u001b[0m \u001b[0;34m=\u001b[0m \u001b[0mself\u001b[0m\u001b[0;34m.\u001b[0m\u001b[0m_call\u001b[0m\u001b[0;34m(\u001b[0m\u001b[0;34m*\u001b[0m\u001b[0margs\u001b[0m\u001b[0;34m,\u001b[0m \u001b[0;34m**\u001b[0m\u001b[0mkwds\u001b[0m\u001b[0;34m)\u001b[0m\u001b[0;34m\u001b[0m\u001b[0;34m\u001b[0m\u001b[0m\n\u001b[0m\u001b[1;32m    890\u001b[0m \u001b[0;34m\u001b[0m\u001b[0m\n\u001b[1;32m    891\u001b[0m       \u001b[0mnew_tracing_count\u001b[0m \u001b[0;34m=\u001b[0m \u001b[0mself\u001b[0m\u001b[0;34m.\u001b[0m\u001b[0mexperimental_get_tracing_count\u001b[0m\u001b[0;34m(\u001b[0m\u001b[0;34m)\u001b[0m\u001b[0;34m\u001b[0m\u001b[0;34m\u001b[0m\u001b[0m\n",
            "\u001b[0;32m/usr/local/lib/python3.7/dist-packages/tensorflow/python/eager/def_function.py\u001b[0m in \u001b[0;36m_call\u001b[0;34m(self, *args, **kwds)\u001b[0m\n\u001b[1;32m    915\u001b[0m       \u001b[0;31m# In this case we have created variables on the first call, so we run the\u001b[0m\u001b[0;34m\u001b[0m\u001b[0;34m\u001b[0m\u001b[0;34m\u001b[0m\u001b[0m\n\u001b[1;32m    916\u001b[0m       \u001b[0;31m# defunned version which is guaranteed to never create variables.\u001b[0m\u001b[0;34m\u001b[0m\u001b[0;34m\u001b[0m\u001b[0;34m\u001b[0m\u001b[0m\n\u001b[0;32m--> 917\u001b[0;31m       \u001b[0;32mreturn\u001b[0m \u001b[0mself\u001b[0m\u001b[0;34m.\u001b[0m\u001b[0m_stateless_fn\u001b[0m\u001b[0;34m(\u001b[0m\u001b[0;34m*\u001b[0m\u001b[0margs\u001b[0m\u001b[0;34m,\u001b[0m \u001b[0;34m**\u001b[0m\u001b[0mkwds\u001b[0m\u001b[0;34m)\u001b[0m  \u001b[0;31m# pylint: disable=not-callable\u001b[0m\u001b[0;34m\u001b[0m\u001b[0;34m\u001b[0m\u001b[0m\n\u001b[0m\u001b[1;32m    918\u001b[0m     \u001b[0;32melif\u001b[0m \u001b[0mself\u001b[0m\u001b[0;34m.\u001b[0m\u001b[0m_stateful_fn\u001b[0m \u001b[0;32mis\u001b[0m \u001b[0;32mnot\u001b[0m \u001b[0;32mNone\u001b[0m\u001b[0;34m:\u001b[0m\u001b[0;34m\u001b[0m\u001b[0;34m\u001b[0m\u001b[0m\n\u001b[1;32m    919\u001b[0m       \u001b[0;31m# Release the lock early so that multiple threads can perform the call\u001b[0m\u001b[0;34m\u001b[0m\u001b[0;34m\u001b[0m\u001b[0;34m\u001b[0m\u001b[0m\n",
            "\u001b[0;32m/usr/local/lib/python3.7/dist-packages/tensorflow/python/eager/function.py\u001b[0m in \u001b[0;36m__call__\u001b[0;34m(self, *args, **kwargs)\u001b[0m\n\u001b[1;32m   3022\u001b[0m        filtered_flat_args) = self._maybe_define_function(args, kwargs)\n\u001b[1;32m   3023\u001b[0m     return graph_function._call_flat(\n\u001b[0;32m-> 3024\u001b[0;31m         filtered_flat_args, captured_inputs=graph_function.captured_inputs)  # pylint: disable=protected-access\n\u001b[0m\u001b[1;32m   3025\u001b[0m \u001b[0;34m\u001b[0m\u001b[0m\n\u001b[1;32m   3026\u001b[0m   \u001b[0;34m@\u001b[0m\u001b[0mproperty\u001b[0m\u001b[0;34m\u001b[0m\u001b[0;34m\u001b[0m\u001b[0m\n",
            "\u001b[0;32m/usr/local/lib/python3.7/dist-packages/tensorflow/python/eager/function.py\u001b[0m in \u001b[0;36m_call_flat\u001b[0;34m(self, args, captured_inputs, cancellation_manager)\u001b[0m\n\u001b[1;32m   1959\u001b[0m       \u001b[0;31m# No tape is watching; skip to running the function.\u001b[0m\u001b[0;34m\u001b[0m\u001b[0;34m\u001b[0m\u001b[0;34m\u001b[0m\u001b[0m\n\u001b[1;32m   1960\u001b[0m       return self._build_call_outputs(self._inference_function.call(\n\u001b[0;32m-> 1961\u001b[0;31m           ctx, args, cancellation_manager=cancellation_manager))\n\u001b[0m\u001b[1;32m   1962\u001b[0m     forward_backward = self._select_forward_and_backward_functions(\n\u001b[1;32m   1963\u001b[0m         \u001b[0margs\u001b[0m\u001b[0;34m,\u001b[0m\u001b[0;34m\u001b[0m\u001b[0;34m\u001b[0m\u001b[0m\n",
            "\u001b[0;32m/usr/local/lib/python3.7/dist-packages/tensorflow/python/eager/function.py\u001b[0m in \u001b[0;36mcall\u001b[0;34m(self, ctx, args, cancellation_manager)\u001b[0m\n\u001b[1;32m    594\u001b[0m               \u001b[0minputs\u001b[0m\u001b[0;34m=\u001b[0m\u001b[0margs\u001b[0m\u001b[0;34m,\u001b[0m\u001b[0;34m\u001b[0m\u001b[0;34m\u001b[0m\u001b[0m\n\u001b[1;32m    595\u001b[0m               \u001b[0mattrs\u001b[0m\u001b[0;34m=\u001b[0m\u001b[0mattrs\u001b[0m\u001b[0;34m,\u001b[0m\u001b[0;34m\u001b[0m\u001b[0;34m\u001b[0m\u001b[0m\n\u001b[0;32m--> 596\u001b[0;31m               ctx=ctx)\n\u001b[0m\u001b[1;32m    597\u001b[0m         \u001b[0;32melse\u001b[0m\u001b[0;34m:\u001b[0m\u001b[0;34m\u001b[0m\u001b[0;34m\u001b[0m\u001b[0m\n\u001b[1;32m    598\u001b[0m           outputs = execute.execute_with_cancellation(\n",
            "\u001b[0;32m/usr/local/lib/python3.7/dist-packages/tensorflow/python/eager/execute.py\u001b[0m in \u001b[0;36mquick_execute\u001b[0;34m(op_name, num_outputs, inputs, attrs, ctx, name)\u001b[0m\n\u001b[1;32m     58\u001b[0m     \u001b[0mctx\u001b[0m\u001b[0;34m.\u001b[0m\u001b[0mensure_initialized\u001b[0m\u001b[0;34m(\u001b[0m\u001b[0;34m)\u001b[0m\u001b[0;34m\u001b[0m\u001b[0;34m\u001b[0m\u001b[0m\n\u001b[1;32m     59\u001b[0m     tensors = pywrap_tfe.TFE_Py_Execute(ctx._handle, device_name, op_name,\n\u001b[0;32m---> 60\u001b[0;31m                                         inputs, attrs, num_outputs)\n\u001b[0m\u001b[1;32m     61\u001b[0m   \u001b[0;32mexcept\u001b[0m \u001b[0mcore\u001b[0m\u001b[0;34m.\u001b[0m\u001b[0m_NotOkStatusException\u001b[0m \u001b[0;32mas\u001b[0m \u001b[0me\u001b[0m\u001b[0;34m:\u001b[0m\u001b[0;34m\u001b[0m\u001b[0;34m\u001b[0m\u001b[0m\n\u001b[1;32m     62\u001b[0m     \u001b[0;32mif\u001b[0m \u001b[0mname\u001b[0m \u001b[0;32mis\u001b[0m \u001b[0;32mnot\u001b[0m \u001b[0;32mNone\u001b[0m\u001b[0;34m:\u001b[0m\u001b[0;34m\u001b[0m\u001b[0;34m\u001b[0m\u001b[0m\n",
            "\u001b[0;31mKeyboardInterrupt\u001b[0m: "
          ]
        }
      ]
    },
    {
      "cell_type": "code",
      "metadata": {
        "id": "q-ON-d7okDY6",
        "colab": {
          "base_uri": "https://localhost:8080/",
          "height": 163
        },
        "outputId": "483c6f9c-dd3d-4c45-f6bb-2d1f4ec39069"
      },
      "source": [
        "model.summary()"
      ],
      "execution_count": 1,
      "outputs": [
        {
          "output_type": "error",
          "ename": "NameError",
          "evalue": "ignored",
          "traceback": [
            "\u001b[0;31m---------------------------------------------------------------------------\u001b[0m",
            "\u001b[0;31mNameError\u001b[0m                                 Traceback (most recent call last)",
            "\u001b[0;32m<ipython-input-1-5f15418b3570>\u001b[0m in \u001b[0;36m<module>\u001b[0;34m()\u001b[0m\n\u001b[0;32m----> 1\u001b[0;31m \u001b[0mmodel\u001b[0m\u001b[0;34m.\u001b[0m\u001b[0msummary\u001b[0m\u001b[0;34m(\u001b[0m\u001b[0;34m)\u001b[0m\u001b[0;34m\u001b[0m\u001b[0;34m\u001b[0m\u001b[0m\n\u001b[0m",
            "\u001b[0;31mNameError\u001b[0m: name 'model' is not defined"
          ]
        }
      ]
    },
    {
      "cell_type": "code",
      "metadata": {
        "id": "073WSrX1Hjeb"
      },
      "source": [
        ""
      ],
      "execution_count": null,
      "outputs": []
    }
  ]
}