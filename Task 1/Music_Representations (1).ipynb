{
 "cells": [
  {
   "cell_type": "markdown",
   "metadata": {
    "id": "aigzmUuORh--"
   },
   "source": [
    "# MUSIC REPRESENTATIONS #\n",
    "Hey! Let us dive into the music world. After reading the first chapter from the book - **Fundamentals Of Music Processing by Meinard Müller**, it is now time to start implementing the knowledge that you have gained from the book. \n",
    "\n"
   ]
  },
  {
   "cell_type": "markdown",
   "metadata": {
    "id": "8BpdPOH0Rh-_"
   },
   "source": [
    "## Notes & Pitch ##\n",
    "\n",
    "## Question 1 ##\n",
    "\n",
    "Complete the code for the following function which generates an array of sinusoids for a given list of MIDI pitches and also generates values on time axis in the form of time array. Recall that the MIDI note number is an integer between 0 and 127. MIDI note numbers encode, in increasing order, the musical pitches C0 to G#9. For example, note C4 has the MIDI note number 60, whereas the concert pitch A4 has the MIDI note number 69.\n",
    "\n",
    "PS- I have used **IPython.display** library as written below, Your task is to find out its function and then comment it down in the code. \n"
   ]
  },
  {
   "cell_type": "code",
   "execution_count": 2,
   "metadata": {},
   "outputs": [],
   "source": [
    "import IPython.display as ipd  #Write down its function\n",
    "import numpy as np\n"
   ]
  },
  {
   "cell_type": "code",
   "execution_count": 8,
   "metadata": {
    "id": "sdOCCTAjRh_A"
   },
   "outputs": [],
   "source": [
    "def create_sinusoid(pitches =None ,Sampling_rate =44100 ,duration =1 , amplitude =5): # set their default values\n",
    "    notes = [\"C\", \"C#\", \"D\", \"D#\", \"E\", \"F\", \"F#\", \"G\", \"G#\", \"A\", \"A#\", \"B\"]\n",
    "    A4 = 440\n",
    "    C0 = A4*pow(2,-4.75)\n",
    "    note_num = []\n",
    "    for note in pitches:\n",
    "        idx = notes.index(note[:-1])\n",
    "        octave = int(note[-1])\n",
    "        freq = pow(2,(octave*12+idx)/12)*C0\n",
    "        note_num.append(freq)\n",
    "        freq = np.asarray(note_num)\n",
    "\n",
    "        #converting frequency to angular freq\n",
    "    freq_ang = 2*np.pi*freq\n",
    "\n",
    "    d_total = duration*len(pitches)\n",
    "\n",
    "    t = np.linspace(0,d_total,Sampling_rate*d_total)\n",
    "    k = 0\n",
    "    x = amplitude *np.sin(freq_ang[0]*(t[k*Sampling_rate:(k+duration)*Sampling_rate]))\n",
    "\n",
    "    k+=1\n",
    "\n",
    "    for i in range(duration,d_total,duration):\n",
    "        x_temp=amplitude*np.sin(freq_ang[k]*(t[k*Sampling_rate:(k+duration)*Sampling_rate]))\n",
    "        k+=1\n",
    "        x = np.concatenate((x,x_temp),axis = 0) \n",
    "    return x, time\n",
    "\n"
   ]
  },
  {
   "cell_type": "markdown",
   "metadata": {
    "id": "fdveQQ3ZRh_B"
   },
   "source": [
    "### Section 1.1 ###"
   ]
  },
  {
   "cell_type": "code",
   "execution_count": 9,
   "metadata": {
    "id": "Mls_KGe5Rh_B"
   },
   "outputs": [
    {
     "ename": "TypeError",
     "evalue": "object of type <class 'float'> cannot be safely interpreted as an integer.",
     "output_type": "error",
     "traceback": [
      "\u001b[1;31m---------------------------------------------------------------------------\u001b[0m",
      "\u001b[1;31mTypeError\u001b[0m                                 Traceback (most recent call last)",
      "\u001b[1;32m~\\anaconda3\\lib\\site-packages\\numpy\\core\\function_base.py\u001b[0m in \u001b[0;36mlinspace\u001b[1;34m(start, stop, num, endpoint, retstep, dtype, axis)\u001b[0m\n\u001b[0;32m    116\u001b[0m     \u001b[1;32mtry\u001b[0m\u001b[1;33m:\u001b[0m\u001b[1;33m\u001b[0m\u001b[1;33m\u001b[0m\u001b[0m\n\u001b[1;32m--> 117\u001b[1;33m         \u001b[0mnum\u001b[0m \u001b[1;33m=\u001b[0m \u001b[0moperator\u001b[0m\u001b[1;33m.\u001b[0m\u001b[0mindex\u001b[0m\u001b[1;33m(\u001b[0m\u001b[0mnum\u001b[0m\u001b[1;33m)\u001b[0m\u001b[1;33m\u001b[0m\u001b[1;33m\u001b[0m\u001b[0m\n\u001b[0m\u001b[0;32m    118\u001b[0m     \u001b[1;32mexcept\u001b[0m \u001b[0mTypeError\u001b[0m\u001b[1;33m:\u001b[0m\u001b[1;33m\u001b[0m\u001b[1;33m\u001b[0m\u001b[0m\n",
      "\u001b[1;31mTypeError\u001b[0m: 'float' object cannot be interpreted as an integer",
      "\nDuring handling of the above exception, another exception occurred:\n",
      "\u001b[1;31mTypeError\u001b[0m                                 Traceback (most recent call last)",
      "\u001b[1;32m<ipython-input-9-5e311fa9f253>\u001b[0m in \u001b[0;36m<module>\u001b[1;34m\u001b[0m\n\u001b[0;32m      4\u001b[0m \u001b[0mpitches\u001b[0m \u001b[1;33m=\u001b[0m \u001b[1;33m[\u001b[0m\u001b[1;34m\"A1\"\u001b[0m\u001b[1;33m,\u001b[0m\u001b[1;34m\"A2\"\u001b[0m\u001b[1;33m,\u001b[0m\u001b[1;34m\"A3\"\u001b[0m\u001b[1;33m,\u001b[0m\u001b[1;34m\"A4\"\u001b[0m\u001b[1;33m,\u001b[0m\u001b[1;34m\"A5\"\u001b[0m\u001b[1;33m,\u001b[0m\u001b[1;34m\"A6\"\u001b[0m\u001b[1;33m,\u001b[0m\u001b[1;34m\"A7\"\u001b[0m\u001b[1;33m,\u001b[0m\u001b[1;34m\"A8\"\u001b[0m\u001b[1;33m]\u001b[0m  \u001b[1;31m# Set the values for [A1,A2,A3,A4,A5,A6,A7]  # Can reset the values to check results for other pitches.\u001b[0m\u001b[1;33m\u001b[0m\u001b[1;33m\u001b[0m\u001b[0m\n\u001b[0;32m      5\u001b[0m \u001b[1;33m\u001b[0m\u001b[0m\n\u001b[1;32m----> 6\u001b[1;33m \u001b[0mx\u001b[0m\u001b[1;33m,\u001b[0m\u001b[0mt\u001b[0m \u001b[1;33m=\u001b[0m \u001b[0mcreate_sinusoid\u001b[0m\u001b[1;33m(\u001b[0m\u001b[0mpitches\u001b[0m\u001b[1;33m=\u001b[0m\u001b[0mpitches\u001b[0m\u001b[1;33m,\u001b[0m\u001b[0mSampling_rate\u001b[0m\u001b[1;33m=\u001b[0m\u001b[0mSampling_rate\u001b[0m\u001b[1;33m,\u001b[0m\u001b[0mduration\u001b[0m\u001b[1;33m=\u001b[0m\u001b[0mduration\u001b[0m\u001b[1;33m,\u001b[0m\u001b[0mamplitude\u001b[0m\u001b[1;33m=\u001b[0m\u001b[0mamplitude\u001b[0m\u001b[1;33m)\u001b[0m\u001b[1;33m\u001b[0m\u001b[1;33m\u001b[0m\u001b[0m\n\u001b[0m\u001b[0;32m      7\u001b[0m \u001b[0mipd\u001b[0m\u001b[1;33m.\u001b[0m\u001b[0mdisplay\u001b[0m\u001b[1;33m(\u001b[0m\u001b[0mipd\u001b[0m\u001b[1;33m.\u001b[0m\u001b[0mAudio\u001b[0m\u001b[1;33m(\u001b[0m\u001b[0mdata\u001b[0m\u001b[1;33m=\u001b[0m\u001b[0mx\u001b[0m\u001b[1;33m,\u001b[0m \u001b[0mrate\u001b[0m\u001b[1;33m=\u001b[0m\u001b[0mSampling_rate\u001b[0m\u001b[1;33m)\u001b[0m\u001b[1;33m)\u001b[0m\u001b[1;33m\u001b[0m\u001b[1;33m\u001b[0m\u001b[0m\n",
      "\u001b[1;32m<ipython-input-8-cd9c737c467a>\u001b[0m in \u001b[0;36mcreate_sinusoid\u001b[1;34m(pitches, Sampling_rate, duration, amplitude)\u001b[0m\n\u001b[0;32m     16\u001b[0m     \u001b[0md_total\u001b[0m \u001b[1;33m=\u001b[0m \u001b[0mduration\u001b[0m\u001b[1;33m*\u001b[0m\u001b[0mlen\u001b[0m\u001b[1;33m(\u001b[0m\u001b[0mpitches\u001b[0m\u001b[1;33m)\u001b[0m\u001b[1;33m\u001b[0m\u001b[1;33m\u001b[0m\u001b[0m\n\u001b[0;32m     17\u001b[0m \u001b[1;33m\u001b[0m\u001b[0m\n\u001b[1;32m---> 18\u001b[1;33m     \u001b[0mt\u001b[0m \u001b[1;33m=\u001b[0m \u001b[0mnp\u001b[0m\u001b[1;33m.\u001b[0m\u001b[0mlinspace\u001b[0m\u001b[1;33m(\u001b[0m\u001b[1;36m0\u001b[0m\u001b[1;33m,\u001b[0m\u001b[0md_total\u001b[0m\u001b[1;33m,\u001b[0m\u001b[0mSampling_rate\u001b[0m\u001b[1;33m*\u001b[0m\u001b[0md_total\u001b[0m\u001b[1;33m)\u001b[0m\u001b[1;33m\u001b[0m\u001b[1;33m\u001b[0m\u001b[0m\n\u001b[0m\u001b[0;32m     19\u001b[0m     \u001b[0mk\u001b[0m \u001b[1;33m=\u001b[0m \u001b[1;36m0\u001b[0m\u001b[1;33m\u001b[0m\u001b[1;33m\u001b[0m\u001b[0m\n\u001b[0;32m     20\u001b[0m     \u001b[0mx\u001b[0m \u001b[1;33m=\u001b[0m \u001b[0mamplitude\u001b[0m \u001b[1;33m*\u001b[0m\u001b[0mnp\u001b[0m\u001b[1;33m.\u001b[0m\u001b[0msin\u001b[0m\u001b[1;33m(\u001b[0m\u001b[0mfreq_ang\u001b[0m\u001b[1;33m[\u001b[0m\u001b[1;36m0\u001b[0m\u001b[1;33m]\u001b[0m\u001b[1;33m*\u001b[0m\u001b[1;33m(\u001b[0m\u001b[0mt\u001b[0m\u001b[1;33m[\u001b[0m\u001b[0mk\u001b[0m\u001b[1;33m*\u001b[0m\u001b[0mSampling_rate\u001b[0m\u001b[1;33m:\u001b[0m\u001b[1;33m(\u001b[0m\u001b[0mk\u001b[0m\u001b[1;33m+\u001b[0m\u001b[0mduration\u001b[0m\u001b[1;33m)\u001b[0m\u001b[1;33m*\u001b[0m\u001b[0mSampling_rate\u001b[0m\u001b[1;33m]\u001b[0m\u001b[1;33m)\u001b[0m\u001b[1;33m)\u001b[0m\u001b[1;33m\u001b[0m\u001b[1;33m\u001b[0m\u001b[0m\n",
      "\u001b[1;32m<__array_function__ internals>\u001b[0m in \u001b[0;36mlinspace\u001b[1;34m(*args, **kwargs)\u001b[0m\n",
      "\u001b[1;32m~\\anaconda3\\lib\\site-packages\\numpy\\core\\function_base.py\u001b[0m in \u001b[0;36mlinspace\u001b[1;34m(start, stop, num, endpoint, retstep, dtype, axis)\u001b[0m\n\u001b[0;32m    119\u001b[0m         raise TypeError(\n\u001b[0;32m    120\u001b[0m             \u001b[1;34m\"object of type {} cannot be safely interpreted as an integer.\"\u001b[0m\u001b[1;33m\u001b[0m\u001b[1;33m\u001b[0m\u001b[0m\n\u001b[1;32m--> 121\u001b[1;33m                 .format(type(num)))\n\u001b[0m\u001b[0;32m    122\u001b[0m \u001b[1;33m\u001b[0m\u001b[0m\n\u001b[0;32m    123\u001b[0m     \u001b[1;32mif\u001b[0m \u001b[0mnum\u001b[0m \u001b[1;33m<\u001b[0m \u001b[1;36m0\u001b[0m\u001b[1;33m:\u001b[0m\u001b[1;33m\u001b[0m\u001b[1;33m\u001b[0m\u001b[0m\n",
      "\u001b[1;31mTypeError\u001b[0m: object of type <class 'float'> cannot be safely interpreted as an integer."
     ]
    }
   ],
   "source": [
    "\n",
    "duration = 1.5  # Set the values on your own so that you get a fascinating ouput\n",
    "amplitude = 12\n",
    "Sampling_rate = 4000\n",
    "pitches = [\"A1\",\"A2\",\"A3\",\"A4\",\"A5\",\"A6\",\"A7\",\"A8\"]  # Set the values for [A1,A2,A3,A4,A5,A6,A7]  # Can reset the values to check results for other pitches.\n",
    "\n",
    "x,t = create_sinusoid(pitches=pitches,Sampling_rate=Sampling_rate,duration=duration,amplitude=amplitude)\n",
    "ipd.display(ipd.Audio(data=x, rate=Sampling_rate))"
   ]
  },
  {
   "cell_type": "markdown",
   "metadata": {
    "id": "54cZXPZIRh_C"
   },
   "source": [
    "### Section 1.2 ###\n"
   ]
  },
  {
   "cell_type": "markdown",
   "metadata": {
    "id": "VEuD0fOuRh_C"
   },
   "source": [
    "    \n",
    "![g_major_scale.png](data:image/png;base64,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)\n",
    "![g_minor_scale.png](data:image/png;base64,iVBORw0KGgoAAAANSUhEUgAAAfQAAAFKCAYAAADrFq2PAAAABmJLR0QA/wD/AP+gvaeTAAA9bUlEQVR42u3dfXBb5Z0v8K8syZbfFeeFBCexoCQkhBBRGqC9UCtL73A3pBvn7tsFdrCz3du70M4Q7nampHPbON07Szuzew2dlu5y243NHdrt7u0m3FJ2OkvXdmHakmwahxAwhGI5JCTYsS3Zsq133T/0HPnR8dGbdY50ZH8/Mx5bx0fSo+ec5/k9z3Oe8wggIiIiIiIiovKzMguINDkB3A3AJX68Br+fG8B3AWwHMGDifPGI/HACuGrQe3QB6BG/LQCGeDoSEdFSgskIgITGz7EcgU7ed0Rjn0Oqfbql/x2XtrtN2Ljp0ciPKQAdBrxfd4Y8IqIsqpgFRKmgdUYEbVeGfXwFvJ5LIzB3Ztn/rPQeXpPlzXHRGNHKMy9PHSJzsDELiFJByy0F1WeQPvTtRuFDvx7pOVoBfpeqV3pCBEififKlQ3wOiM9yVKTPCaAdHA4nYkAnMpEuKWh5AdyuEVQH8uiRQ3oNF4D9AJ6WgrsSFN1SD1dOg/IaveI1lG1eEewPiSDqA9Antmk1IvZL7zEkGide1T4eqSHRJUYPntAI0HIj5EXVe57Ikp/t0ucZEq+tNBDc4v9KXg2Kz5wPp3j9/RqNDCIiYu88dc22a4mv0a16DeVvp+o95P36pef3S9s9qm1nxI/6GrZ6GFzrOrfW55LT0K3xvurgLF8z78oRbLXSOSI1ejKl71iW9MmNC635DVPIfJmEiIhWkBGNAKz0ZLtVP648Arpb+luZNKb1v3wDurz/iCqQQer5JqQGQIf4mZK2uzTSOpUjoEMjSI9A+5p6v2ofJc8OqRpPyohIh+rzuHME9H6kT8aTP99xnsZERCQHq0xBOlfQ61a9hhJoeqRgO6UKkGcKCOiHpF7wlEYQ7M+QRq3gqA7ouWbVOzUaF0r6nVLvWQ7mzhyvpzSWtD6jVpq1GknqUQknT2VayTjLnSid3AP3Innt3JvH89pUj09Igahdtc0n/S9fQ9Jzh1TBEaogPpDh73aN130GuSe2+QDsQXJuQa+03S0Cqvr9+5D5mnaPaET0Aziiel62gNyh6uVrXXZw8/QlBnSilU2e3NUl/d0rAllfgQ0BIDnRSwl0StB6scLzaQjAQZEn6kCbT++4RwrAAwAOIP/JcETEgE6UkxxoHy+yp+fV6Bm7RY/1hIGfQX4/T4Ze6+ASX9uZYbRA/p88irE/w+vIjaUDIj9GCxyhgGhUWDR+Bngq00rG29aIkr1EJZArM7VPYGGxl/YlBHQv0m9RO2HwZ+iTAnkPkreJOZEc1pY/Z6HcSA6Py8F3v8ZrnhDv6xTPOY7kcL5Wg0MZ0fBmCf5aDRbl/vceVV67RF7znngiIsp4y1W+k+KU2dryzHV5wpbcO5UngmWb1JZpols+2wu5bS2bQ1leU327WFeG/c5o5IfWT3eO9HXl8Vwi9tCJVjgfkpO+ukSv0YOF4WRlItpgll6gV+qVK54B4NfooWu9xpAqLZm2Zdu+RwS2TinQnsDiVe+80mNvjnwZEq/hll7TK7apF3TpFf97HOmT2JR9jkqB2Sle40UsLInrzZG+TK8/BC5BS0REREREREREREREREREREREREREREREREREREREREREREREREREREREREREREREREREREREREREREREREREREREREREREREREREREREREREREREREREREREREREREREREREREREREREREREREREREREREREREREREREREREREREK5HFLAnZ1tzgBOA26vWH/YGBPNPhAuAqdzpMdFzcAJwGvbx32B/w5pkOj4Efs5B0GJkfvmF/YKjCzg8jj8vQsD/gq5S6w0THxMg6LO9z1ER1hynyoyICuijQehTqNgBdBn7Wo3nu167T5yk2HTlPJAAntE5qcQJ36FSYOg0sDAMABvPc94iBx6SQdBiZH14AfXp9pkyBSMcya/Rx6QUwWkF1R7Fl1qPTuWVkHVbIOWqWusMs+ZFPA/ZEWQL6tuaGDgA9RvZmKS9PD/sDT0g9lWMimBN5ARxQehCix3ScZbbsegE8MewP+ESZPQLgELOFRJl9YqmBfUkBfVtzQ5cIHMnHO29DU3NzUZ9i2u/H8Lk3AABf/J9P6ZIzl0fex/Hv/28AwJ333Jvfcy6O4vLFi2i94UYc+Nx/LVs6cnn73BuY8fvTKggA/RBDj43Nzdi+8zbd3ufO37kPd/7OZ3RJ+/Hv/29cHnkfkYa1iDSuzes5dVfeAgAc+Nx/ResNN5YtHY6JUVSFZ3Ht9j/Etdv/QJd0rDnzf7HmzD/pdsyUc1jqFe4Rf/dDjNoU8plLfVy+/T8OAwBCLS7Eaupy7m8NzaFmMtnpHf7TH+mShrqrb2Hzy0eNLLND4rgcl3uPcxtuKfp97DPjsAfGda3DTv7bKzj5bz9HvLoewdVtBZUVI+qO1s2b0bq5raDyYER+6FVm5fgnHBz2B3oLfR3bEoK5S/TM0bp5M/7q2b/V5YQ/+dqr6Ny3FwAwOTmpS6ZPT8+k/u576eW8nvOdbzyFb3/jrxCJRMqajlxm/H48dfjLOP6DF4DkcKNH6Xl98cmv4AtPHtblfTr37cXJ117F/Py8bvkRiUQAAP4tnryD4ra//+NUXtaWMR2b/+VoKojpbfvO23Q7P06+9iq++PCDmPH7nSJoAIAzXl2PS5/5EubW36LL+xhxXBQf3d2ZVzrl4GsEvY4JADx1+Mt4/rvPQjS8zyhl1r+lHWN3dSJWXa9bA1HPOmx+fh4AEFzdhou/e6SgsmJE3XHgoT/Ju44zok5X8kPvMvuVx/5caYz3bGtuGMh3nsCSAzqAxwE4G5ub8e0XfohtOrRO1HxTPl1eJxCYWfJzo9GoKdKRSWNzM/7q2b/F5YsXcfK1V2FEMJcFg0Hd8iMajRaVlzUmSIfZ3XnPvfj2Cz9UGskuZbuewdyo47KcHX7qm5jx+5WGuAsAAm27ceXex3R/Lz3rsGAwWPF1h1nyI1eZfWTfXqUh/jiSI6+GBvSOZAvpYUOCOQDMTE/r8jpzs3NLfm4sFjNFOnJXEN/AgXv/QyrIP/LoY4a8TygU1i0/YrFYUXlZbYJ0VEpQP/DQw0rwgH9LuyHBXO/jshKCunJMAOCjuzoNeR8967BQKFzxdYdZ8iObbTtvw4GHHlZGcTpKEdBdAHDfA/sMO+EDswGdWlHzRR18M6QjnxOgsbkZM34/tou/jRAJh3XLj2IKZTA4b4p0VIrd99ybCh5z63cY9j56HpflrrG5GXfecy9OvvYqQi0uRBrWGvI+etZhkXC44usOs+RHLvc9sE8J6K5Cn2sz4wk/P6dPjzYUDC35ufFYzBTpyMf2nbfh5Guv6jZ5R/MEjkR0y494EYUyFAzBaoJ0VIrWzZsXjmHjWsPeR8/jspLkM+nPDHWYcu26kusOs+SHkcwZ0Of1uT4RChcR0ONxU6TDLCKRiG75EY/Hi8pLiwnSQcYdF4Ju57deZbbogG6CMmuW/FhxAT2k04SDSDhS1ME3QzpM05OIxXTLj2IKZSQcgSXIgG66Bp+Ox4X0C+h6ldlih7rNUHeYJT9WXEAP63R9IlpEKyqRSJgiHWYK6HrlRyKRKC4vTZAOMu64EHQ7v/Uqs8UGdDPUHWbJjxUX0PUazogWc70lkTBFOswU0PXKj3gRhTISiyFhgnSQcceFoNv5rVeZLTagm6HuMEt+rLiArtf9wcVkeiKRMEU6TFM5xOO65UcxrexYLAaYIB1k3HEh/XroepXZYoe6zVB3mCU/VlxA1ysAxosM6GZIh2kqh3hct/woplDGYzHABOkg444L6RfQdSuzRQQws9QdZskPBvRyZPoKOPgFVdiJhH4VdjEBPR5HwgTpIAOPC+l2fuvWKSlyqNsMdYdZ8mPFBXS9hjOKalUmEqZIh5la+7rlR5EB3WKCdJBxx4WWV5llOhjQdWvNWZZBOszS2tcrPyxFFqSECdJBPC6V0tDS5ZgU2TOOm+TcMEV+rLSArlvrp4hAmjBJOkxVYet4EluKOTdMkA4y7rjwmOh0TMxSl5ql7lgBdfqyDuiWZZIOHhcel5V0fhDLLOsOBnTNVlQxzzVFOpZpa98UIwUMQLqWWQZ00x0U3Y5JwkQ940rPDyNV8awnIiKqfOyhV0A6lltrnz1B9tBpBdWlJjo3lnudzh46ERHRMsCATkRExIBOREREDOhERETEgE5EREQM6ERERAzoRERExIBOREREDOhERETEgE5ERMSATkRERAzoRERExIBOREREDOhEREQM6ERERMSATkRERAzoRERExIBORETEgE5EREQM6ERERMSATkRERAzoREREDOhERETEgE5EREQM6ETLh+em1ei+fwszwkS6798Cz02rmRHEgE5EREQM6ERERMSATkRERAobs4Bo6VwttXC11KVtG7o8Dd98hJljomMi807OwTs5z4wiBnQiSuq+fwuOZJjkNvDbSTxx4i0MXZ5mRpVY1+6NGY8LABz92QV0/+wCM4qWHQ65ExnA87EW9D92F5y1dmYGEbGHTlQplF6fs9aO4396Bzwfa4Gz1o6OW69D76lLzKAy6T11CX2nLqdt807OMWOIAZ2IsvPNRzD43gQ8H2vJuI+z1o6eju1w1tpx9GcXcOkM880oo5PzGHhvIud+7tYmHLl/C3zzETxx4m2EmXXEgE60MrW11MJz02q4VtXi8U+7ACQnx51486O0/Xa1NqGnYzt881F07d4Iz8dasPvnzzMDDT4uMvWkxc7drfDNRwEkr7+7WurwwFfPMvOIAZ1oJeravRFduzemHnsn57Hn2dc1Z7sf/OEbqV6h52MtcLc24U1mYUmOCwDsefb1tF772cvTePoXXgBA4n/tzTq6QmRmnBRHZABXS63mpLiz0qx316pa+OYjnAlfZkMfzqSOGZC8Q4GIPXSiFUqZFOdqqcWR+7ega/dGuFubcOzB23Dg708v2t9z02q4Wmpx8IdvwDcfxRpmoSG0JsVlakB17d4orqG/xYwjBnSilc47OY+DP3wjNczbcet1mvsduX8Ljv7sAnpPXWIwN1C+k+KctXZ07t6Igz98A0OXp1HHrCMGdCJShm4BaF5DP/RpF/pOXuLtbCbS07EdB46d5uUPYkAnWunab1qNbgDNtXZ07W5Nbe9VDffuam3Ci+c+YjAvkSMaq/kN/HYSe77z69Tjzt2teOYXXgZzYkAnouTKcOrZ0QO/ncRR1RKjDObm4puP4MQvPmIwJwZ0opVs4LeTaNeYET343gROvLk4SORzLZf0OS7Isla7/MUsyu1qRAzoRCs5cLw3wSDN40JkGrwPnYiIiAGdiIiIGNCJiIiIAZ2IiIgY0ImIiBjQiYiIiAGdiIiIGNCJiIiIAZ2IiIgBnYiIiBjQiYiIiAGdiIiIGNCJiIgY0ImIiIgBnYiIiBjQSyyRYB5QRtbwLDOBiBjQtTQ1N6f+tsSiZUvH7nvu0T0Nymu1bt5cuWdKPF7WxlKoxZU8YaMR/Y6LeK1QS1vez5lbvwMAUDPp1S0dDvFalXx+WHRqAFuKPM/sgXF9GmwhNtjSiDosXl1f3s5RMa9V5jpsRQX0bTtvQ6MI6lWRsD4fLhwquKJs3bxQueuWDvE623beVnHl+M577hWfIaTLSWyJx1MNnEICaaRxbVoQ1uuYyK+dVzoakvvWXXlLl166NTyLuitvVez5oTS0LDqVFUskJDWebsmzkbWwn5KXxWq4eKpij4lyjlqikaIbSErwUhrS+R4TQ84Nqe5QOl4FddLiMd06apZUnb6TAT2TzzywL5mo0HzRGW+JRlAVDgIADjz0JwUE9M2pQlw1P1t0EKsKh1JB6D7x+SpJx0MPpwq1dX62+IphPpBq6c9tyL9ymNm8WzquoeLTEZxLVX5BUfHkI9D2idTfG179btFBfd3rfagSr1GJ58dM225xngeLbmxZYlFYxXHxb2kv6LkBkY7rXu9LjXgsVePoKTRfGEyrkypJoO0TqZ501Xyg6DrMKtWDyvHOh3IMLfEYrHOBosusdXY6eXyam1MdjXw7JUqnzjqnT35Y4jFTllmbmRLzhSe/gld++hJm/H7YZny6vGZjczMeefSxgp5z+KlvoHPfXljiMdj9E7qNQBxQgmMFad28GY88+hie/+6zqAoHU42kYk3u2ItYAcN3/i3taDn/MmomvbDOzcA6N6NLOsbu6ixo/1h1Pa7d/odYc+af0DB6CltGT+mSjkcefawih9yndvwuWs6/jKrwLGwBvy6vGRd5XIhrt/8BGkZPoSo8C9eJL5et7jCDWHU9JnfsxZoz/4SqSBhVOtVhUzv2pnr/+Qi2uBBo2y2Oi351xxef/MqSYstXHvtzWGJR3er0O++5t6CGxYrrobdu3oznX3o5NfRerte785578VfP/q1u6di28zY8/9LLqFRffPIrurZEp3bsxbXb/6Dg513c+7WCevW5gsaVex8rqMchB4+pHXt1y48DDz2Mw099syLPjVh1PS7u/VpBFX3u4/Jowa8XbHHh8n1fWto13hLURaWm9znq39KOjwps/ALAlXsf1a3MKnXRUhpZBx56eEkNgWwx4tsv/NB0x91mtgRt23kbTo5ewsnXXs24z4kfvIDjP3gBANCXJVAW03o68NDD+MwD+/D2uTcy7vPU4ScxLP6fKR1Nzc0VeR1O3VP59gs/xPC5NzDt1+6FDZ87h6cOfzlV+P1bPJr7RRrWLrnyj1XX4+LvHoFj0ouq8JzmPo4JL9a93pczHaGWtoJGCNQ+uqsTkzv2ZpyEJafjwEMPL1y6WBQ42ip7sqQIpr/9o2+j7mrm69fNFwZSw9hjd3UiuNqluV8h12jVZtp2Y27DLaiZHM0rHUbVHWaR6xwFgM0vHxXlwYWP7u4sS5mV07Ft5204/NQ3DCkrX3jyMDoeehiXL2Y+Pzr37c1ZZs1cp9vMejJmK1CnXnutJAUv17UaeWb+cqgA8mls5SPSsK6oijmfAGKGdORb0bVublsR50e2vJYnqwVXuww7LrHq+rzTsRKOSb7naKymzhRltqnA6+NLGXnJp1FQqWWW96ETEREtAwzoREREDOhERETEgE5EREQM6ERERMSATkRExIBOREREDOhERETEgE5EREQM6ERERAzoRERExIBOREREDOhERETEgE5ERMSATkRERAzoRERExIBOREREDOhEREQM6ERERMSATkRERAzoRERExIBORETEgE5EREQM6ERERMSATkRERAzoREREDOhERETEgE5EREQlYyv1Gw4M/BaDg+/jww+nceXKND78cBp33LERjY012LdvOzyej+n6ft7ZKPq8geR7j82n/c/trIaz2or9rXVwO6tL8vknhsfw+jcGcu5315MerN62zrB0BH80hOA/nsm5n/PHB0uSL+3rbPi9jTbsclrhrAZ2Oa0YnY3DO5vAWV8M/+9SFINjUUPT4LTP4vh/+Ou0bUO+Njwx1FWSPHj76iuYDo5hev4jzAQ/Sm1vdFyHptrrcOOau7G24caSVxLtW9fg01vXYEOzI/Xzm4s+BIJR/PTcVQy+e03X93M11eCRHclzv31TU9r/zo7NwheK4cX3JnF2fLZkefBy1z/m3GdLxw5s6dhhWBq2r67D4U+25dzvqV+N4u2JuRVRZgFg7sUjiPuupG1r6HxuRZbZkgX006cv4ejRf8WHH05r/g8AGhtrDAno3W9OaTcuxoIAgO43p+Cqt+HIjlXouqHB0HwIz4Rw5eQHee1npNglH8K/9Ja9RblrlRXfv8uBXU7rov+11VehrR5oX2eFP5wwvHLoaD0Fz9rzads8a8/j6Pk/hC9Sb3zlcOUVXPKd0/hPctvrIy9go3MnHtj5VdTYjE/Pxzc78dV927Ch2aH5PwCYCUV1D+htzTX42ic3ageRjckA/7VPbsTodAhf/9UH6Ds/bnhe5FNmN+zeZGgaGqttuHNDU177rZQyG/d9iPDQTxZtjwwPwL7Ns+LKbEmG3F966S38t//240XBfOvWtaneOQC0txvfknHV2+BZ54BnnWNR4D94chwHT46DSuP3Ntrw7/fXL6oYzvpiGByLYXQ2nto2OBYzvsex9q2Mgb7Uamz12OjciY3OnWkVwSXfOfz03F8a/v4P7FyPZx92LwrmFz4KpHrnAPALnYO5ltHpEAYvTWPwUnr90dZUg+/ffxP+/v6bWJhWaJmNek9rbo+807/iymxJeuhXrkyju/tf07Z9/vN348EH3alADgDvvjue9tgox+5cmxbMe0cCeOLMBHyReOrxLmcNDm1tKskB2Nv3R4a37POx7srRkr5fW30Vvn9Xbdq2v3wzhG+9G4YvnEhtc1Zb8HuttpIM3cmBu9frQZdrIBXoe72ekubP2oYb8Z9v/8ZCo/jc/8T7136VqiDGA+8bNpS3odmBr+7blrbte6958aNTlzATXDgOW69rSHtslD/92XsY/GAhmHfuWIu/8bjgrElWX4/sWIuh8Vl86zdXSnJsPv6FT+H2L3yy7GX2kZfexskr0yu6zMqBu9r92VRvPVOgX65ltmQ99L/5m1+kPf7rv96Hz3/+rkXBe+vWtdiwoankB6Hrhgb0/86GtG3PvOtnU9xgX7u1Bk67JfX4c6/P4+tvhtIqBgDwhRN4fiRSkmDutCevyQ75XBgcv6WsPXS12zftT3scjhp3/fiJz6T3eL/84zfxvVe9i4L3ux8FcMUfLHle9J0fx33/mD6a8vjHN7BQrbAymwjOIDI8sNBDvuuh1N9x34eIXX1nxZTZkgT0mZkQBgZ+m3p8xx0bdb9Grge3szrt2rl3NoohX5gl2CDOagseucGeejw4FitJBZBNu3TtfGD8Fpy4vHshvfbZsgd1+Tpdja0erc6dhrxPo8OGT29dk3r8m4s+3a+R6+Hs+Cyel66dtzXVYNfaehauFVRm5V64df3NqZ9UAD37kxVRZmWGDrm/+2769ejPfna7aU/Y9rW16B0JLFTqY8GSzHy/cPw8rp68tLh1V+IhvYjGBLmqTU5YNzl1fy/19bfnR8rfeOq4fiFgD47vgC9SjyGfC26nNxXw5SBvtOngGF73/gAAcHnqjVTlUGOrTxvW09uWdemTQn/6xlXTltnBS348smPtQhne1FSSme9XTn0AfEcj7zp2oKG1dKOM21fXLe5EhaOGzHA3Y5mVh9ttrjtSv5WeeamH3ctVZksW0E+fvpz2uBxD6vly1adnhT8SL8n7XjhxXnu4psQBfer3jy3aVv+lPaj/C4/+jad16ZXD6Gz6kN3Xbq3BV29dPJ/iM/82Z8h1ObfTC1f9uNSYuyXVU1cCesf1p0p2+1qycvgIr4+8kLatxlaPfTu/auh1uI+3pTfgyjGkni/vdPqdIMo1dcMD+skPNGe9r79zY0kDutYtbCevTOORl95e9mUWQNpwu63tE6nfoV8ng2rs6juI+z5ElfP6ZV1m0zphIFrh5OH0AdE7B4AXL98pNfjGU8G9XELRWfz4zJN4++orPGi0okW9p5EIzqQeK7eoqW9Vk4P+SiizhjZpr7++Mb1lW8IZmQW39mfTW5G7SrTQzN1P7kHL9rVl//z1X9qzaFv1J10G5XX66EdbvSXt8eBYDHgzhLb6qrTrdkbZLw23u+rG0O/RnvHf6RrAUIl66RudO1PDdJd95/CLC89hPPA+AOBf3+5Bk+M6Q67JXfGl98i17kE3C1dTeo+wVAvNbOnYgS0HFi8gY+RCUFqOvzuOy4H0oe/LBq1fYbYyKw+3WxyNCPR9Pu2xEuzDZ3+CmrsfWtZltmQBfevW9EA1MPA+9u27xZSVw+D44lXkSqFl+1pT3LZmxNB6xrxW3Z/6yA3VaRNsBseSK0y1r7MZXjmoe96u+vG04XeZJ8N96kZrde7EAzv/B3p/9aepbW9decWQyuHCWCDtcfvWNfjpOXNeR2/f2Jwe0MdKE9AbW5tNUWaPv3utZLetmanMqnveieAMot5/19wvdvUdJIIzsDgal22ZlRk65L5161pcf32TFNB/mzbr3SyGfOG0CXFuZ/Wia+qkn9HZeNoCFO3rrCWpBLSDdPochoHxHWk/3tm10nnhzRjsjdbkuC7tsbzMpJ7Ut6J9eusatEuz3s1i19r6tAlxZ8dnF11Tp+VZZuO+DxH3fZh6bF1/M2yuT6R+5Jnu6uC/HMtsyQI6AHz+83elPf7Sl17Cc8+9jhnV0NCVK9OLtpXCwFgQe/4tfUGKI7euYgk22NffTD/W37+rNnmfa7WlpOmQh9uHfC7sGTiS9vPE2a60/eXZ8CVtdF56Mb0HsOo2w97re6960x5/8/dvxZ/d60KjI72Ru6HZsWhbSXrmm5rw8z9KH+n7+q8usVCtkDKrDtANnc8t+knbvwyrxpW6zCoML4379t2C06cv4yc/WRiufO65X+O5536NrVvXorGxBu++O46ZmRD+7u9+H3fcsdHQ9PR5ZzA4HoQvHMPAWHDR/eZdNzSgo7WuZAf95U7tL30wy2pURnl+JLJoeO6rYqbsWV8MvjCwa5Wx7U31/eUD44svB524vBu+SH1q0ZlO1wCevrDX8PyRb4F5f/xXqWtxQHLm7Pb19xn23j89dxUfb3PigZ3rU9v+7B4X/uweFy58FMBMKIqt6xrQ4LDhsReG8JuLPkPzovOWdWjf2AxnjRXtm5oW3W/+/PlxvPjeZMnO3d9855f4zXd+uWj7hjs3YW/vH7HMGky+v9y6/uZFw+kWRyPs2zypwB8ZHijJsHs5y2zJAjoAHDnyH7FhQxOee+7XadvV96mfPn3Z8IAuD62nV+5VOHLrqpIt+UrJlaZGZ+OLbnfR+tIHI3jWpV8THxzfkWEU55ZU4Hc7vXDaZw3/shatW2CUiuE/3/6NRcN5evvLl4ZxxR/En93jStu+5br0+9Q/3uY0PKDLQ+syXyiKr//qUsmWfKXyl9lEcCZtBTjl/vNFga3tE2k9+aj3tOFf1lLuMluygA4kh94ffNCNl156C6dPX8bMTAinT19CY2NN6lr7VgOu1Tmrq+BZ58DQVDi1XnuyYq6Gs7oKbmc12tfVlqxXXt1Ygw135p5QY/T9rNaNTlR/ylX2CuLrYi3oR26wo32dDc12C3atqoLTbklNxPnFWBRDvpju97O66sYxIAXxTAvH9I164Kyek86dUc3efLHWNNyIUHQ2rWUPJGfPVtsa8LG1d+PGNZ8sybc2Acmh9x+duoQHdq7Hxzc70eCw4eObnQgEo3h3LHmt/cJHAd3f1xeMYfDSNHatrUu7t/zsePKrU8+OzWLw0nRJe+X5lNmWbcberTITjqZNgpsJR1dcmY1dfRc21ycW6tNdn9Xcz77Ng8g7CwFdvua+nMtsSS+ANTbW4MEHb8eDD95esvd0O6vRv8c86zyv3rbOFMNyjj92w/HHblPkiS+cwLfeCeNb75R29amnL+zNa/j8xOXdJVkl7tNbPm+6HtlMMIp/OHUJ/3CqdNeoz47P4r5/PG+qfDBDmX17Ys6QRWMqqczaXHegwZX7u86rnNeX5DvRzVZmubAMERHRMsCATkRExIBOREREDOhERES0cgP65YujPHIapv0+ZgIRVRR7YNx0aarUunTJAX3G7y9bot8+t/DF8Sdfe7WMB90vNTIuli0dSh4MS/lSavL54Jj0lq9ymFmoHOqunjdFOsrZAJXPCcdEGY9LYEwzb0pNPifKWXco50Q580Iup9bQXBnPjXHNOrVc9aiZ6tJSBPQhAPj5T18qU0G4iOFzb6Qen/jBC2U7+GZIx3HpfU++9mrZGhby+VB35S1Yw7NlSUfzewOmS8crP32pbA1g+bg0XCzPsrXW8CwaR/9dM29KnY66K2+Zou5Qyqk9MI66q+X50p/mC4Opv2smvWXrKTdfGJAC6Rtlq8NOmK8uHSpFQO9TAkk5WrhfeezPFwU0ObCWqgX11OEn0zPlu98pUzq+nLZN/bhUJ6DcsKgKz2Ld631lqaDkChsANrz63bKnQ+s4laqxJ5fRuitvpVXipbLu9T5USQ2rcqVDfS6Ype647td9JW94Oia9WHX+ZVX+PFuGEZPF58IXH36w5A3g4XNvpNVhWrGmVI09KR0FV6IFr9e3xlE9DOC/AHCe+MELsMCC7TtvQ43DYXiG/8XnDsoV1FEAbgCOl//5x6hxOHDj1q2Gp+Pka6/iLz53UK4IngBwdzgUcrz8zz/Gmuuuw8bNbYamY8bvx8v//GP8xee6cG0sNZTZC8A9cuFdnHrtNWzfuRNrrrvO8Mrpe0/3oPu/H1I2eUU67nZMjsIxOYqw83pEa52GpsMeGEfL+X/BdQuNiCEAfwfAU+3/sNzp+AcAdw+fO4fhc+dw49athh+Xyxcv4v9891m5ETEgjo2r8eIpABZEGtciXm3s6lWOSS/W//J7aHo/te750wAcANYr6QitbkPCWl2SdDSMnpLTsU2pO8KhEFo3t6Gpudnwhu/hxx6V645eAG7bvA8Nl84iVutE2Nlq+ChF0/u/QuvAt2CJRQDAB+CbADz2wDgaR/8dYWcrIg1rDU/HquFXsP6X31PS4RV1ace1sY/w6s9fwY1bt6J1c5vhddiPjv09Dj/25wiHQmn5cfnixZLXpVIjwgvg0WuhcLCQ11nS1+Rsa25wA+gHYGwNmVnvsD9w0ETp6ALQU8Z0HBz2B3q3NTccA9BVpjT4AOwZ9geGypwOr0iH10T50Q/AU6Z0DAHYI/7uF43gchgY9gf2sO5IOTrsD3SzzDId2dJheA8dAK6FwlfXOKp/JApDKSsIrygIh1XpcIkWdynTcXDYH/imSMfQGkf1z0QaXKWsJEU6Toh0vLjGUe0X6ShlRdUL4MFhf2BYSodFGUEpcToODPsDV02QH7877A94RTr6ypgfDw77A75roXBQlJX1JS6zPgDfHPYHDkpl9u/KlI7DGnVHqeuwIQCPDvsDfyudo2cB3F3ic3RAnBtDUjpGRV6UMh0nRJkdLnN+aKWj7HVpoYr+ItttzQ2lKhC+bC2WEqbDq1TUZU7H0LA/4MsxiuJcKekY9gcG8hhVYjoW0uFZQWXWl6u3U6L8yFVWXCXqEFRK3cH8ICIiIiIiIiIiIiIiIiIiIiIiIiIiIiKqWFZmARGRoewAViF5m3CE2VF2TQAaAMwvtw/G70MnIjI+gHwKwKYs/8/2OF+bANwsPd6B5AI+mdQB+E8AVldYfq4X6bYXeAwUt4rjsewwoBMRlc+nALRneVxoQJe/B/VGANNZ9o8AmKjAUYM5ke6l5vGyxSF3IiJj1YlgGwHQCmCdCEitYrsVwBrRi1wnPfYDuElsawSwXbzetOid3iH2VR7fhuTSsnHRi20E8J4IaHYA1yO58loIyeHmBgAbpMdbRCNgldgWEum7VaT9NvFZJqTPdaP4cQAIiPdW94zvEH/fLD7LtBg92CSeExKPtwD4QPWcaWnkYRWAWfF7FYApKY03i/z0qRoom1R57BdpqEPyEsjNYv+AlN7tIv8iWBiW3yQ+52rxGeelxoIdQJt4TfkY3Sx+rkr5YhfHYLt4ravStpvEMZsX771DpLVFSmeDxnFgD52IqMSaRO9yk9SbVoLPhAgC8uMogGYpkESQXCp3E4BaEXSUIfXVquevBnBN+nuHFIQ/JX7bxf+Uv20A3heB71PS/qulgLJVfA47gE+L9/9AbNcaxrZL76989vtE0FqPhUsEzVgY+pfTtUl85mnxnDkpTXbxfLcURG0avXl1nipqxWu4pXxqlwK5kk83S2mwi+1yvm8V6b8m8uZG8b+NYn+5gbFb5IVf2r5bvMYH4nU/Ld5XOfZKfu+WXls5DgzoRERlcAnAefH3ehFglJ7eO6JClx/Lw+enRO9bee40gEHVtg+k/dWPJ8R7vyP9Xx34pkXAsElBVfGmCPYQvfr1Yp83RS9zRAQYpcHwKVWAH5E++4RIxwSyX+OHFPQ2qvID0vZpkT/vSL1/5f0jWfJ0SOohr8bCHIeoqoe/UaT1fVV+y2kcFO+tjDAoefG+aqRmtdh2Xvwo20ZEWt7UyPtT4n/KZ3hHOg4M6EREFUzrmvd6qUeu9OimC3gNpRc6gcKuTysT02zS73dUgacYVwH8UgTl3RoNAK2JcR9I71/MTPZ3pTy1Z/gN1XuMiN+3Sum3i2Niy/JetiyvnzcGdCKi8lF6jDsyPFbsxsLQ8FURINrFtiYRoJUAvkbq0SmUYW9l6FwdtJukQN+cZ6CNYOE68SYsXDaYWELDwC99zltVDZVm6bXsGsG7STzvZvG3nIZIljzV+kyQesc28RqXxOvukI7B+1mO5wQWro8rl0mUSXnKKMgOLFyGmMDCPADl+HywlJOJk+KIiIxlR3KykxLwlMlZ4+Jxnfi5iuSkLvlxq/j7QyQnRJ3HwiSrBvF3iwgCSkDaLv6elnrfyvX1OJLDxgFVut4THbwa8dgqXsMq9lPeU9l/SqSpBskJaqMA3sbiSXHZPnuT2P8D8blrkJxc9574PYHkpLdV4rO+J/atk9J0CQtzDZR8Uo8+qPO4QXpf+bWURoBy/TounntV9MJXidc+LzUw5M8jN45WAXhDPE+Js5fEe1aJ17eK9F4Vn2GdyNez4nM3ZUhnXJWnRERUAT4F4LM59lGu18q9cbkn+1ks0/uuTehmJO+RL0t+25j/REQVTd1Lm2CWlE2TyP8hZgURERERERERERERERERERERERERERERERERERERERERERERERERERERERERERERERERERERERERERERERERERERERERERERERER6agDwBSABIAunV+7H4CbWUxERGSsLhHI5R89g3oCgIfZTEREZByPRjBPiN66kwGdiIh04gJwCMBxAGc0Yk4/gG5wRHfJRjIE9ITIWAZ0IiIqhlsEcSVw94iY4EHycm8PFi75Kj/9jBuF6coSzJWMZ0AnIiI94sxUlt63Uwr68k8Ps7D43rny08GATkREOnQaj+XxnH6NOHSMWZmdJ0MA71dlqB4ZyYBORLTyqIfRu/N4jlPjeQlU4HX1qhK+V6fq8RCAGwDsET9HxfYOnpNERKblwsL1aI94bJZOo3pidXMez/MB6NXYzliUhTzcfgbaM9qVVlKxJwh76ERE+nAiOVNca2havlZ9HPqvKVJoQFenayTP57ph3CTtZdmikzMqU8A+rlMwZkAnIio+kPdI9fZxpA9Du0QAH9EIouXq3WoNnecbCyp+yL1UOpDfNfJuBnQiIlME8zOqYJ5t32Mwx8SyLo10nFlCQOekuDwCda5Z7MqQziEGdCKislEvwtKxhOeU6xawriU0Lg4th2Buy7XD6rXrig6MUxPXdsXjcVgsFrSsWevLFGwnxsfcAFBdU9PW2NS85PedGB+Do7bWXd/QqDx2AXDZ7dUDTU4niyoRUQbTfp87Eg6nDTc7amtd9Q2NWevkcCj0zMy0Xx0MDzU5V71ot9tL+RG84VDoYDA4fyQSDrukIO+qq68/WltXn9pxfm4Wc7OzHgBHbDabr7qm5pnauvoBs3YIJ8bHBrL935JHQE8UfYL4fIhEwrDbq5EpoIZDIcxM+wEATc5VKOYEmBgfQ5NzFaxVVZiZ9iMajab+19DYhBqHg6WWiMoqGo0ikVioXm02GywWS9nTJYJc2rZ8682ZaT/CoVDatmLr82IkEglEwmHEYtFkfscTsNpsqKqyIBaLwWq1wmq1wV5dbYq8zyO2WYrqoSN5S1lxJ24s2gPAnUjEewH0ae0zNxs4BjFZLhwKPmG324eKeMv+4NxcbzQaccbj8T7xuj0AEJiZhsViOVhdU+NllUJEpRIOhVyhYPDxeDzmljsZsiqrFVar1Wu32/tET7H06QyH90N12XN+bnaoxuF4ImcAjSc8AI6k1f+R8EG73V6W+tZisaC6pgZADU9AHSnXxjNdh5EnzSVQ/Je0aF0HkW+5OMRDQkQl4lLVP91Iv9PHLbZprS3uLlN6tW5Nc+XxXA+WdtsYVWBA92Q4eaZ0PgG03ktdoIiIjOZW1W+HcgRSrYllXWVIdxe0V/XMRe6cTYG3fi3rgK4+uE6NE9iopV+nCmxpEhEV29NV97qdS3iOXt9xsZSgPlVA/SzX5yMM5ss/oKsdW0Jr1JXHiaIO6B3snRNRifVo1G9L7R2fKdNncIo6U73Sp9zA8IiRhxFR13fx0JdHqab1HRcngEUVzNUH3ofk+u6+LK/VDaAd2SfrJcT/B6QGhQfJ9XoP8rATLZsesAuLR+MGkPyuCJ8JOjLqtN0AwJvHc6c0evMWk+a3V/wM8JRcGbqxMNStNcxeyHB7N3Jfy5F76B7kf/2HiMwfxOUe4xks/sZGuSdZzt6i1ndt5zshVz16OcVDT2bRhYXh7mzfie7SOaA7xftxGT+i5dMxUIK1K0Ndo77uO4LyLBTShaV/WUg3uBQpmZQ7SxAvdInAQgJ6DwsC0bKg7rFmm1yWaRSwywTpznceTw9yfzslkSkKo9ZX7+V7wuYb0BnMiZZfzzzfy2duFPfNW3rqKbBxIae9n8Gc8mXoWu6RSATTvqkjuQqRo7aut76hIa9bHPxTk22xeNzZsnpNxtecGB+Dw1HrrG9s7AO/pIWook2Mj3XKjy1VVVnLv2La7xuIhMNpt3tVVVU9vmr1mlJ/hBfDodDZYHD+SDQScYnlXo8B2G+3Vz/T5HQqdSUA7LdYLF02ux12u/2oWC2Ot3+RUhYGsv3fsLXco9EoZmemkWmJQymYo76hIe/XnZ+bRSQcQbYvWQkFg1yvnaiAshqPxRCLLZRVi8UCq81etjW41Q30tEor+SVPOZ8Xj8UwNTmRti3b90mUM78BwGq1ocpqhc1m40lJmcpCWe50yDTcpcf35XaDM9aJ9Cijx5A+tNsP7WvPx1HekS6tibT5LrRixMJVRCtGVx6BvJiCxYBOtHROpN9OdQyLr9Eqi4loLf3pKkOaM6UlH+rb2Tw8BYjMEcwZ0ImKC+ZyjzXX6mNaI23lWp9ba2JtPvd0y737Lp4CROYJ5gzoREun7q12L7FcF3JXit499akCgrrSCBhBedZCJ6pInjwCeb8ojMcZ0IlKzoWl3Q+t1RAoZ2/XKYJ4v6pu6RL1UBeSt4n1Q3t5aaJlS4/plO48gvQTAJ4WBcylc+HuEYXWC+Aokuu1E5WjUesB0KY6x70AzmJhffFyBnS1XXk+V+v2T1eZPodP1CVPS+lQ5zfrAKIlBtQzyL5gjHy97RCKX5NY6aG7sbCOc7m/ZpBWbq+3BwvDwMfF+dktGq/q2dkjZewxujKUUWee5dwsPXQiMkhPAcFc6cXkW4lkC+gjSF8q9hDK/zWDtLJ0SYE820SxQ1h83fcMyjOxTGvovDvP55rhGjoRGcRdYDCXewmeIgP6mQwNhUK+c5iomGBeyGxrdwFlxEiZRtRypcOF8s9yJ6ISt/bzKfCF9AoyBXT1pLgOFP5tRkRL4cLS1gc/hKV/85beQV3rqzk9eTQC+hnMicwrn6VfFwXf4Pxc82wgoNkraWhsOlHjcJzN9Hq+yYlOAD5ny+oXl5LgmWl/eywadTlbVvelXnNqsj0WjXoAoL6hccBRWzvIQ0tGCMxM7woFg2nzNOobG3sdjtrRXM+dmpw4Eo/F0rY1NjU/XV1T4y/154hGo22hYLArGgnLyzP31jgco1arFcFgEPFYrM1ms3XY7NVOu90+UF1Tw3JFVEYT42PdxQb0hEZQRTgUWrRvXX09auvqM75WPBZDYGYGkUg4tc1ur0aVtQp2e3Ve66+r13JPJBKYmriGRCKBGocDDY1NPOoVLJFIIBqNIhaNQHyJBYDkOtc2W3Kt63Kan5vF3Oxs2rZ8v49gNhBAcH4ubVuTc5Up1kuPRqNp+W2xWLimOJH5Arrua7lrzXjNtRSj1jCf1k8+s4C7Ve/VjYUZxlSZnOK4n5HOA2Vt8SmNc6Qb5ZuU1YGlD517sLRZ5kREhvBkCMbuLBVgPl/Uov4yCGceAd0lXvsYK8aKJZ8fma7lerB4MtcU8lv60whaE8sOLaHs9PDwE1E5dSP/5Vy7Cgzk6lt7cgX0fvDbkyqZ+vzItYbAMei/lPBSRxS0GhjuAsoOz1siKjute89dGXpeiSJ/erIE9EOsFCuaR+N4LyWQFnvXRDFBvRvpo09TWRolyiz3ci4uQ0SUpj+PHpIThQ+zZ/pxaQT0kTJV4qSfY0sI6JkaAuW8VVG5/n9MKhtnkL5inLKCnIeHnYiMosc0Vq3bz7qgfU3bK36UIK3cetaWpdfyOJJrwcu4ZntuLvGjDiIDSK4p7jNB+tTcyL3e+YDqHMr0WqXiE+ciz0ciqvgeej77nFEFlm4svkbugvZw6ohGj4gyB0llBEPJ935oLwJ0BuUd+tXqoec7SazHRD10IqKKdRy5J66pA4c6CB/K0BjINFTvYrbn1K3Kc60864L2bWCeMqTXg6V/z3Y3yn8NnYhoWQWO/jwCuidLZe7JEHSWsrTmSqbu7WYLipkmlpWjt651rI8X+Hk5MZKISIdKOFdAH8kSVLLduzvFgL6kBlauBX4UbmiPhJQjnzuw+GtGs60r0CX15tkzJyISck6KU6/lHo1G2/xTkwAAq9XqcrasXlSpTk1OIB6LwWq1Quv/ADB5bRw2m31/k9O5qOL2+6Z80Ugktb2+sbHT4ahlUNcwMT7WKT/OdEzUAjPT3lAwmHbftNVmO+Jc1VKOfO4Lzs93RiJhVyQcRiKR6ALgqbJa+xwOB2KxGELBICxVVfvtdrvbZrP7ahyO3qqqKjCoE9EKqu+7iwroANrTnmCzwWq1+mKxmDORvE7brn6C1Wr1xmMxl8Vi0fy/2MeXSMQ1F+Kw2WyIRiKpx1VVVW7wOnomafkSj8cz5rmstq7OFwoG07ZZyvhNWo7aWq+jttYrPoNy/NuT54oNdfUNqKqq8iE5y10ZZSAioiJ1IfuENRdyX8/tQXLYVEs3uN51vtTD1fmsuKZQX0vn9WgiogpVtcTn9SJ5L7AS3NW8AJ4Wf2e6Tj6aZ6D2ovz3TJtZn8a2x/N8ri+P1yIiomVOWdp1CpmHw5XZyFpB34PME7HkWcyHmNU5ad3TnU++yb37LmYjEREDSbaZ1coiIOphYCcyDw+PoLD7kmnxuuK5grpy7EaQ/xA9EREtU/I9zdmuv3oy/F/r1iMPCr8WTAvH4xDSV4brF71vj/jdg4VvqWOvnIiININ6f4E96n4sXu4znwYC5cclArn8Q0RElDWoK0O4U8j/unc3Fobr5ddgMCciIiojedWvERHYXTn2V75qUnleD7ORiIioMBaDXrcLyVunlMU/hsTPqLRPG5JDwErA9wE4gIWFQ4iIiMgkXKKXfhzaXwgifyEHZ7MTEREZ1UNfvXZdv5EJmBgf8zhqa731DY1eHg4iIqKM8XJPtv9XlTuBNpuNq8AREREtA1q3rhEREVEBqkyQhkHwm7OIiIgqnrImPBEREVVwD90rfnt4OIiIiMwR0J1IXyRmBMlV37LdkjYkfnPYnYiIyATkNd3VP2dyBPUz4HKvREREptCDzAvH5Poqz35k/wpWIiIiykKvIXcncn8hy/4s/+O96ERERCYI6Lz+TUREtAwCuiePfXw5evhERERU5oDuzWOfF7MEcw8WZrsTERFRmbiRfUJctglv3WIfDtsTERGZQD8K/2rULmkfIiIiMkkvfUoK5FM5et2HkN896kRERFSGoH5GFdS7kbxGrvwcwsJKcvyWNSIiIhPrQnIYXe6xy6vG9QBwMZuIiIgqhzKLnQGciIiIiIiIiIiIiIiIdNTFLCCeL6Q3C7NgxfBIfw+BX4hTTv0A9pg4fU4s3HLqA1dx5PnCepHIFCdrpgV/Rkye9kOq9B4zcVp7oH1HR3+G3pVZvyq4C+m3nco/bhOmdSTDeX28Anq1iRw/Zj5funOkvZv1IpG+juUodGdMnn51YJkyeQ8qW173VEBAz3W+mG3xp1xBRWlQmXXRKgZ01ou6szHuLUvdqh5KL4A+6bHL5OmXh3yHxN9OAB0ATpg87U+INLukUYVDAI7CvMN5PdL54gPwDIABVY/GzEOR8vntAfA4Fm6XPQ7zD1cfreC6ZgDAoMY21otEOnDB3EOl+eiS0u/J0tM1Yw/dk2G726Q9rko9X7qz9AjVy1Cb8TNl6o1nOr8qJe9ZL5ZRFWi56VC1QCtxQtN+8dsrWvtejc9mdh7VKMMQz5eSGRKfRdHJaoH14jI8zxfhkPvys0v6+0VVC7VLte8AzDk81iGlD0gOsx8Sn8Ft8sLYr5HHBzT2cyM5JO9Ccki4XJ+pPcP5UuleFOcMKqA3ltA4Z/aY9HxR61SdQ4A5L3Esh3qRAX0Fckl/+1Tbj2jsb7YTt0Oj4A1KlXNnhbWu3eIz9Wocpz1IDg0fyRD0S8GZ4Xwh85VrM5wvWulysV5kQKfSn8QDSJ9wZkb7pb+PIDnBSeYxeZ4rk+LcIv1O0bPyIX1C3wkpmPpMeL5UOrmh4jV5WtWT4rTSa8bzRUmrt8LOjUqsF2mFku/f1ppM44G5J7Ro3c+t/jFb4Mk0Ka5D2n5ctT+wcC91OW+t6kZl3OufLd1a57F8e1KXCdO/lElxZjhf8sl71otlwklxy88J1UnaVUFpd0uV1ZDouSg/A6pAWck9RuXxfiSHTsvZ4+qV/u7C8lhm1I302/AGlsmIgxnOF9aLJsYh9+XHC+BpLFxzPobksLVyPbrNxGmXZyM/owo2HVLvt1N8RrMGE2DxtTn1hLMOAAdNUDlrnS+dSL+3uE2k1azapHNjv/RZlPPIa/Iyq9VjVC7dmO18Yb1IVAa5VkQy49CSvJSnS6OHYtaVy3KtFKdefaoH5lvBLNf5YjbdeZzfPSYun7nS7jHx+dKNyh2ersR6kT10wkEkV0HqFJWDHCAHROvfTKuuObEwwcan0avyiRa2W+oJD5io9Q+N9A6IHkCvRu/LrOfL4+J8cao+h9NkvcNMaVHObbP3zAcK+HxmO1+8UvrNPvpR6fUiERERERERERERERGV3v8HcbbTq2QXS4UAAAAZdEVYdFNvZnR3YXJlAEFkb2JlIEltYWdlUmVhZHlxyWU8AAAAAElFTkSuQmCC)\n",
    "\n",
    "\n",
    "In order to describe music using a finite number of symbols, one needs to discretize the space of all possible pitches. This leads to the notion of a musical scale, which can be thought of as a finite set of representative pitches.\n",
    "Generate G major and G minor scale using the above **create_sinusoid** function."
   ]
  },
  {
   "cell_type": "code",
   "execution_count": 4,
   "metadata": {
    "id": "XT-R0aaNRh_C"
   },
   "outputs": [
    {
     "data": {
      "text/html": [
       "\n",
       "                <audio  controls=\"controls\" >\n",
       "                    <source src=\"data:audio/wav;base64,UklGRjIAAABXQVZFZm10IBAAAAABAAEAIlYAAESsAAACABAAZGF0YQ4AAAAER9WJLKX/fy/+ogNFBw==\" type=\"audio/wav\" />\n",
       "                    Your browser does not support the audio element.\n",
       "                </audio>\n",
       "              "
      ],
      "text/plain": [
       "<IPython.lib.display.Audio object>"
      ]
     },
     "metadata": {},
     "output_type": "display_data"
    },
    {
     "data": {
      "text/html": [
       "\n",
       "                <audio  controls=\"controls\" >\n",
       "                    <source src=\"data:audio/wav;base64,UklGRjIAAABXQVZFZm10IBAAAAABAAEAIlYAAESsAAACABAAZGF0YQ4AAAAER9WJLKX/fy/+ogNFBw==\" type=\"audio/wav\" />\n",
       "                    Your browser does not support the audio element.\n",
       "                </audio>\n",
       "              "
      ],
      "text/plain": [
       "<IPython.lib.display.Audio object>"
      ]
     },
     "metadata": {},
     "output_type": "display_data"
    }
   ],
   "source": [
    "#Section 1.2 code\n",
    "\n",
    "dur = 1\n",
    "Fs = 4000\n",
    "pitches_major = [60,62,64,65,67,69,71,72]\n",
    "pitches_minor = [60,62,63,65,67,68,70,72]\n",
    "amplitude = 2\n",
    "G_Major, t = create_sinusoid(pitches ,Sampling_rate ,duration ,amplitude)\n",
    "G_Minor, t = create_sinusoid(pitches ,Sampling_rate ,duration ,amplitude)\n",
    "\n",
    "ipd.display(ipd.Audio(data=G_Major, rate=Sampling_rate))\n",
    "ipd.display(ipd.Audio(data=G_Minor, rate=Sampling_rate))\n"
   ]
  },
  {
   "cell_type": "markdown",
   "metadata": {
    "id": "NPVMRiWwRh_D"
   },
   "source": [
    "### Section 1.3 ###\n",
    "### \"HAPPY BIRTHDAYY TO YOUUU...HAPPYY BIRTHDAYYY TOO YOUUU..........\" ###\n",
    "\n",
    "We always wanted to sing **Happy Birthday** song on our parents', friends' birthday events. Guess what? Now you can definitely do that - without using guitar/piano/any instrument - no matter how ugly you sing - by just writing a few lines of code. Well, you will definitely become a rockstart if you are able to do this...\n",
    "Hint : Use the same function as above, and you will succeed. \n",
    "\n",
    "PS - Those who have not played any musical instrument before should search for the paino notes of the **Happy Birthday** song..\n"
   ]
  },
  {
   "cell_type": "code",
   "execution_count": 5,
   "metadata": {
    "id": "0rdgFNxoRh_D"
   },
   "outputs": [],
   "source": [
    "\n",
    "duration =1   # Set the values on your own so that you get a fascinating ouput\n",
    "amplitude =10 \n",
    "Sampling_rate = 44100\n",
    "pitches = [\"G4\",\"G4\",\"A4\",\"G4\",\"C5\",\"B4\",\"G4\",\"G4\",\"A4\",\"G4\",\"D5\",\"C5\",\"G4\",\"G4\",\"G5\",\"E5\",\"C5\",\"B4\",\"A4\",\"F5\",\"F5\",\"E5\",\"C5\",\"D5\",\"C5\"]  # Set the values for [A1,A2,A3,A4,A5,A6,A7]  # Can reset the values to check results for other pitches.\n",
    "x,t = create_sinusoid(pitches=pitches,Sampling_rate=Sampling_rate,duration=duration,amplitude=amplitude)\n",
    "ipd.display(ipd.Audio(data=x, rate=60000))"
   ]
  },
  {
   "cell_type": "markdown",
   "metadata": {
    "id": "kzly2qiLRh_D"
   },
   "source": [
    "## Piano Roll Representation ##\n",
    "As defined in the book, a piano-roll representation is understood to be a geometric visualization of the note information as specified by a piano roll. The horizontal axis of this two-dimensional representation encodes time, whereas the vertical axis encodes pitch. Every note is described by an axis-parallel rectangle coding three parameters. The first parameter is the onset time, given by the leftmost horizontal coordinate of the rectangle, and the second is the pitch, given by the lower vertical coordinate of the rectangle. Finally, the third parameter is the duration of the note, encoded by the width of the rectangle.\n",
    "\n",
    "The major task of our project is to be successfully able to pre-process the audio file containing instrumental music and create transcription for the same. Now, Piano roll representation is a very important form of music representation which you must have studied from the book. \n",
    "In order to help you get a visualization for the same, here is a video clipping which will help you realise how beautiful this representation is. \n"
   ]
  },
  {
   "cell_type": "code",
   "execution_count": 6,
   "metadata": {
    "id": "Zs48R7aBRh_E",
    "outputId": "dcf11152-5888-4b6f-cd22-b8b3b2bd0aa3"
   },
   "outputs": [
    {
     "data": {
      "image/jpeg": "[encoded data removed]",
      "text/html": [
       "\n",
       "        <iframe\n",
       "            width=\"400\"\n",
       "            height=\"300\"\n",
       "            src=\"https://www.youtube.com/embed/ddbxFi3-UO4?start=1\"\n",
       "            frameborder=\"0\"\n",
       "            allowfullscreen\n",
       "        ></iframe>\n",
       "        "
      ],
      "text/plain": [
       "<IPython.lib.display.YouTubeVideo at 0x2a4f66fa408>"
      ]
     },
     "metadata": {},
     "output_type": "display_data"
    }
   ],
   "source": [
    "ipd.display(ipd.YouTubeVideo('ddbxFi3-UO4', start=1))"
   ]
  },
  {
   "cell_type": "markdown",
   "metadata": {
    "id": "5hiZyrCXRh_E"
   },
   "source": [
    "As you can see from the above video, there are many instruments which are being played at the same time - which are represented by different colors respectively. Such kind of music is called **POLYPHONIC**. It becomes difficult to do automatic transcription of this music type since it is hard to keep track of which note was played by which instrument. This is one of the major challenges that we will have to see during the implementation of our project."
   ]
  },
  {
   "cell_type": "markdown",
   "metadata": {
    "id": "4MbaoaHJRh_E"
   },
   "source": [
    "## Question 2 ##\n",
    "\n",
    "In the given CSV file, each note event corresponds to a line encoding a data record consisting of the four parameters start, duration, pitch, velocity, and label. The first four parameters are real numbers and encode the start, duration, pitch (encoded as MIDI note number), and velocity (in the range between 0.0 and 1.0) of a note event. The last parameter label is a string that my encode further information such as the instrument (e.g. violin, guitar, flute), or some staff information (e.g. left/right hand for a piano score).\n",
    "\n"
   ]
  },
  {
   "cell_type": "code",
   "execution_count": 10,
   "metadata": {
    "id": "hPE-Xj-2Rh_F",
    "outputId": "9fb9474f-a198-4c2e-bb87-575e39d6d2ef"
   },
   "outputs": [
    {
     "name": "stdout",
     "output_type": "stream",
     "text": [
      "0.25,0.23,67,1,Right Hand\n",
      "0.25,0.23,55,1,Right Hand\n",
      "0.25,0.23,43,1,Left Hand\n",
      "0.5,0.23,67,1,Right Hand\n",
      "0.5,0.23,55,1,Right Hand\n",
      "0.5,0.23,43,1,Left Hand\n",
      "0.75,0.23,67,1,Right Hand\n",
      "0.75,0.23,55,1,Right Hand\n",
      "0.75,0.23,43,1,Left Hand\n",
      "1,0.97,63,1,Right Hand\n",
      "1,0.97,51,1,Right Hand\n",
      "1,0.97,39,1,Left Hand\n",
      "2.25,0.23,65,1,Right Hand\n",
      "2.25,0.23,53,1,Right Hand\n",
      "2.25,0.23,41,1,Left Hand\n",
      "2.5,0.23,65,1,Right Hand\n",
      "2.5,0.23,53,1,Right Hand\n",
      "2.5,0.23,41,1,Left Hand\n",
      "2.75,0.23,65,1,Right Hand\n",
      "2.75,0.23,53,1,Right Hand\n",
      "2.75,0.23,41,1,Left Hand\n",
      "3,1.97,62,1,Right Hand\n",
      "3,1.97,50,1,Left Hand\n",
      "3,1.97,38,1,Left Hand\n",
      "\n"
     ]
    }
   ],
   "source": [
    "import csv\n",
    "import numpy as np\n",
    "from matplotlib import pyplot as plt\n",
    "from matplotlib import patches\n",
    "import pandas as pd\n",
    "import IPython.display as ipd\n",
    "\n",
    "\n",
    "with open('MUSIC_notes.csv', 'r') as file:\n",
    "    reader = csv.reader(file)\n",
    "    for row in reader:\n",
    "        csv_str = file.read()\n",
    "print(csv_str)"
   ]
  },
  {
   "cell_type": "code",
   "execution_count": 12,
   "metadata": {
    "scrolled": true
   },
   "outputs": [],
   "source": [
    "data_sets = pd.read_csv(\"MUSIC_notes.csv\")\n",
    "\n",
    "X = np.asarray(data_sets[[\"Start\",\"Duration\",\"Pitch\",\"Velocity\"]])\n",
    "\n",
    "y = np.asarray(data_sets[[\"Label\"]])\n",
    "\n",
    "y = y.flatten()\n",
    "\n",
    "for i in range(y.shape[0]):\n",
    "    if y[i]=='Right Hand':\n",
    "        y[i]='blue'\n",
    "    else:\n",
    "        y[i]='orange'\n"
   ]
  },
  {
   "cell_type": "code",
   "execution_count": 14,
   "metadata": {
    "scrolled": true
   },
   "outputs": [
    {
     "name": "stdout",
     "output_type": "stream",
     "text": [
      "Collecting pretty_midi\n",
      "  Downloading pretty_midi-0.2.9.tar.gz (5.6 MB)\n",
      "Requirement already satisfied: numpy>=1.7.0 in c:\\users\\harshvardhan arya\\anaconda3\\lib\\site-packages (from pretty_midi) (1.18.1)\n",
      "Collecting mido>=1.1.16\n",
      "  Downloading mido-1.2.10-py2.py3-none-any.whl (51 kB)\n",
      "Requirement already satisfied: six in c:\\users\\harshvardhan arya\\anaconda3\\lib\\site-packages (from pretty_midi) (1.14.0)\n",
      "Building wheels for collected packages: pretty-midi\n",
      "  Building wheel for pretty-midi (setup.py): started\n",
      "  Building wheel for pretty-midi (setup.py): finished with status 'done'\n",
      "  Created wheel for pretty-midi: filename=pretty_midi-0.2.9-py3-none-any.whl size=5591957 sha256=f39b5c2552030cade75903ecedcae64583319ef6ffda4690e5b7d69876479cea\n",
      "  Stored in directory: c:\\users\\harshvardhan arya\\appdata\\local\\pip\\cache\\wheels\\ad\\74\\7c\\a06473ca8dcb63efb98c1e67667ce39d52100f837835ea18fa\n",
      "Successfully built pretty-midi\n",
      "Installing collected packages: mido, pretty-midi\n",
      "Successfully installed mido-1.2.10 pretty-midi-0.2.9\n"
     ]
    }
   ],
   "source": [
    "! pip install pretty_midi"
   ]
  },
  {
   "cell_type": "markdown",
   "metadata": {
    "id": "NoF0gqnZRh_G"
   },
   "source": [
    "The note events stored in the CSV file can be visualized using a **piano-roll representation**. Complete the following function to illustrate how this may be done.\n",
    "\n",
    "You can use Pandas library for better visualization. You are free to use as many libraries as you want. You might not be aware of powers of python which you will might have to use to do this question, but you can always google and learn them as per your requirements. :)\n",
    "\n",
    "The final output should look like this :\n",
    "![piano.png](data:image/png;base64,iVBORw0KGgoAAAANSUhEUgAAAjgAAADQCAYAAAAK/RswAAAABHNCSVQICAgIfAhkiAAAAAlwSFlzAAALEgAACxIB0t1+/AAAADh0RVh0U29mdHdhcmUAbWF0cGxvdGxpYiB2ZXJzaW9uMy4xLjMsIGh0dHA6Ly9tYXRwbG90bGliLm9yZy+AADFEAAAceElEQVR4nO3de3SV9Z3v8feXKOWSKGhiDKDEhUzEw0AQFkuFcpJ6qVXqpVqLCIPaI/V6oradsePqWnTsWfVM7SAsqQ5azziKYsR6qdPjqMh2jtdChoDIRScaLgYDeCVQ5ZLv+WM/oRsIyU7Yz36yn/15rbXX3s9vP8/v+fID4ze/3+/5/czdEREREYmTXlEHICIiIpJpSnBEREQkdpTgiIiISOwowREREZHYUYIjIiIisXNE1AGkY8CAAX7yySdHHUZe2rFjB/379486jLykto+O2j5aav/o5GLb19XVbXP3kgPLcyLBKS0tZdmyZVGHkZcSiQRVVVVRh5GX1PbRUdtHS+0fnVxsezNb3165hqhEREQkdpTgiIiISOwowREREZHYyYk5OCIiIj3Rrl27aGhoYOfOnVGHkhFFRUXU1dVFHUa7+vXrx7Bhw+jdu3da5yvBAQafWE7TxnbnKB2WQScM5aMNjaHUH2bdqfWLiMihNTQ0MGDAACoqKujVS4MiYWltbaW5uZmGhgZGjBiR1jVKcICmjeu5bMmOjNe7qLp/aPWHWXdq/SIicmg7d+5UcpMFvXr1orS0lKampvSvCTEeERGR2FNykx1dbWf9rYiIiEjsKMERERHJkPIhx2NmGXuVDzm+03sWFhamHd/XX3/N2WefTWVlJU888QT33HPPISdIV1VV7bfIbmNjIyNHjkz7Xh1JJBJMnjw5I3UdiubgkJxQG8ack0EnDA2t/jDrTq1fRETSt/6jZnxW5uqzWc2ZqwxYvnw5u3fvpr6+HoDy8nKmTZtGv379MnqfnkAJDoT+tFCY9etJJxEROdDWrVu57rrr2LBhAwD33HMPw4cPZ9q0aWzdupXKykquvvpqmpqaqK6upri4mCVLlqRdf2NjI9OnT2fHjuRDLvfeey9nnnkmiUSCWbNmUVxczKpVqxg7diyPPvooZsYLL7zALbfcQnFxMaeddloof+5USnBERERipqamhltvvZWJEyeyYcMGvv3tb7NmzRoefPBB7r77bp5//nkAZs+ezZIlSyguLm63niuvvJK+ffsCyTV/2ib6Hnfccbz00kv06dOH999/nyuuuGLfcNby5ct59913GTRoEBMmTOD1119n3LhxXHvttbzyyiucfPLJ/OAHPwi9DZTgiIiIxMzLL7/M6tWr9x1/+eWXbN++vcv1LFiwgHHjxgHJXpu2eTO7d+/mpptuor6+noKCAt57771914wfP54hQ4YAUFlZSWNjI4WFhZx00kkMHz4cgGnTpjF//vxu//nSEWqCY2YDgAeBkYAD1wDfBq4Ftgan/b27/zHMOERERPJJa2srb7755r7el0ybPXs2paWlrFixgtbWVvr06bPvu2984xv7PhcUFLBnzx4AzCyUWA4l7Keo5gAvuPspwGhgTVA+290rg5eSG5EIDD6xPKNPe7S9Bp9YHov6RXLZueeey7333rvvuG1S8YGKioq61bPzxRdfUFZWRq9evXjkkUfYu3dvh+efcsopfPjhhzQ0NADw+OOPd/meXRVaD46ZHQVMAq4CcPddwK5sZ3Ai0r5cXME7m/WLdMfQwaUZffJp6ODSTs/ZuXPnviEhgNtuu425c+dy4403MmrUKPbs2cOkSZO4//77D7p25syZfOc736GsrKxLk4xvuOEGLr30Up588kmqq6vp37/j/2769OnD/PnzueCCCyguLmbixImsWrUq7ft1h7l7OBWbVQLzgdUke2/qgBrgpySTni+BZcCP3f2zdq6fCcwEKCkpGVtbWxtKnNKxlpaWLq2xIJkTdttXV1eHliAsWbIkp+v/wx/+oH/3EcqlnztFRUWMHTs26jDyRl1d3UE9TtXV1XXuPu7Ac8Ocg3MEcBpws7u/bWZzgNuBe4E7Sc7JuRP4Dcm5Oftx9/kkEyQqKiq8qqoqxFDlUBKJBGr7aORy24cdd9j1FxYW5mzbx0Eu/dvvqTtvx1m6/zbCnIOzCdjk7m8Hx4uA09y92d33unsr8AAwPsQYREREJA+F1oPj7h+b2UYzq3D3dcBZwGozK3P3zcFplwDhDsKJSLtycQXvbNYvIrkt7HVwbgYWmFlv4APgamBuMD/HgUbgRyHHICLtyOUVvMOuP5FIhFa3iGRHqAmOu9cDB078mR7mPUVERES0m7iIiIjEjhIcERGRDMn0ApTpLDxZUFBAZWUlI0eO5Lvf/S6ff/45AE1NTVx22WWdXn+oR/KfeeaZ/bZ7SDVr1izuvvvu/crKy8vZtm1bp/dLRyaWCdBeVNKh70+ZyrbmzZ2fKBkx6ISh2iFeJIdlegHKdCbS9+3bd99KxTNmzGDevHnccccdDBo0iEWLFnX73s888wyTJ0/m1FNP7XYdUVKCIx3a1rw5lMXUpH1aRVdEDscZZ5zBypUrgb9sjrlq1Sp27tzJVVddxdq1axkxYgSNjY3Mmzdv30aad9xxB88//zx9+/bl2WefpaGhgeeee45XX32VX/7ylzz11FMMGzYs7TguvvhiNm7cyFdffUVNTQ0zZ84Ekj0zNTU1+92rtLSUDz/8kKlTp7Jnzx7OO++8jLSFhqhERERiYO/evSxevJgLL7zwoO9++9vfMnDgQFauXMnPf/7z/RYo3LFjB6effjorVqxg0qRJPPDAA5x55plceOGF/PrXv6a+vr7d5Gb27NlUVlbuezU1Ne377qGHHqKuro5ly5Yxd+5cPvnkk0PeC6Cmpobrr7+epUuXcvzxx2ekPZTgiIiI5LA///nPVFZWcuyxx/Lpp59yzjnnHHTOa6+9xpQpUwAYOXIko0aN2vdd7969mTx5MgBjx46lsbExrfveeuut1NfX73sNGjRo33dz585l9OjRnH766WzcuJH333+/w3u9/vrrXHHFFQBMn56Zh62V4IiIiOSwtjk469evZ9euXcybN++gczrad/LII4+kbSPsgoIC9uzZc1jxJBIJXn75Zd58801WrFjBmDFj+Oqrrzq9V6Y349YcHOlQcWmZ5oVkkVbR7Rk0uV7StWzZsqhD2Ofoo49m7ty5XHTRRVx//fX7fTdx4kRqa2uprq5m9erVvPPOO53WV1RUdNDGlun44osvGDhwIP369WPt2rW89dZbnV4zYcIEFi5cyLRp01iwYEGX79keJTjSoScXPpYzm96JZIom10v61ux3lOktRLr6S8+YMWMYPXo0Cxcu5Jvf/Oa+8htuuIEZM2YwatQoxowZw6hRozj66KM7rGvKlClce+21zJ07l0WLFqU9yfi8887j/vvvZ9SoUVRUVHD66ad3es2cOXOYOnUqc+bM4dJLL03rPp2xjrqteoqKigpft25d1GHkpVza1Tdu1PbRMTMlOJKW24vWMHbs2KjD6NTevXvZvXs3ffr0oaGhgbPOOov33nuP3r17Rx1al9TV1R3U3mZW5+4H7pqgHhwREZG427lzJ9XV1ezevRt357777su55KarlOCIiIjEXFFRUY+aL5QNSnBERA6gyfWSrr9bupTW1lZ69dJDyWFrbW3t0vn6GxEROcCTCx/D3fWK6LVkyZLIY0j31b9/f5qbm7v8P1/pmtbWVpqbm+nXr1/a16gHR0REpJuGDRtGQ0PDfqv4Sjj69evXpe0ilOCIiIh0U+/evRkxYkTUYWRMnJ7e1BCViIiIxE6oCY6ZDTCzRWa21szWmNkZZnaMmb1kZu8H7wPDjEFERETyT9g9OHOAF9z9FGA0ySUfbwcWu/twYHFwLCIiIpIxoSU4ZnYUMAn4HYC773L3z4GLgIeD0x4GLg4rBhEREclPoW3VYGaVwHxgNcnemzqgBvjI3QeknPeZux80TGVmM4GZACUlJWNra2tDiVM61tLSQmFhYdRh5CW1fXTU9tFS+0cnF9u+urq63a0awkxwxgFvARPc/W0zmwN8CdycToKTSntRRSdOM+pzjdo+Omr7aKn9o5OLbX+ovajCnIOzCdjk7m8Hx4uA04BmMysLgioDtoQYg4iIiOSh0BIcd/8Y2GhmFUHRWSSHq54DZgRlM4Bnw4pBRERE8lPYC/3dDCwws97AB8DVJJOqWjP7IbAB+H7IMYiIiEieCTXBcfd64KBxMZK9OSIiIiKh0ErGIiIiEjtKcERERCR2lOCIiIhI7CjBERERkdhRgiMiIiKxowRHREREYkcJjoiIiMSOEhwRERGJHSU4IiIiEjtKcERERCR2lOCIiIhI7CjBERERkdhRgiMiIiKxowRHREREYkcJjoiIiMSOEhwRERGJnVATHDNrNLN3zKzezJYFZbPM7KOgrN7Mzg8zBhEREck/2ejBqXb3Sncfl1I2OyirdPc/ZiGGDg0+sRwzy/hr8InlodUfZt2p9YuIiOSiI6IOoCdo2riey5bsyHi9i6r7h1Z/mHWn1i8iIpKLwk5wHHjRzBz4Z3efH5TfZGZ/AywDfuzunx14oZnNBGYClJSUkEgkQg41HGHGHXabJBIJWlpacrbtc53aPjpq+2ip/aMTp7YPO8GZ4O5NZnYc8JKZrQXuA+4kmfzcCfwGuObAC4NkaD5ARUWFV1VVhRxqOMKMO+w2qaqqIpFIhH4faZ/aPjpq+2ip/aMTp7YPdQ6OuzcF71uAp4Hx7t7s7nvdvRV4ABgfZgwiIiKSf0LrwTGz/kAvd98efD4X+AczK3P3zcFplwCrwoohXYNOGBrKnJNBJwwNrf4w606tX0REJBelleCY2V8BPwWGpl7j7t/q4LJS4Gkza7vPY+7+gpk9YmaVJIeoGoEfdS/0zPloQ2PO1h927CIiIrko3R6cJ4H7SQ4p7U3nAnf/ABjdTvn0tKMTERER6YZ0E5w97n5fqJGIiIiIZEiHCY6ZHRN8/IOZ3UByovDXbd+7+6chxiYiIiLSLZ09RVVHcq2aGSTn4LwRlLWVi0iOysUVvLWKt4ikq8MeHHc/KVuBiEh25eIK3tmsX0RyW1rr4JjZjWY2IOV4YDBkJSIiItLjpLvQ37Xu/nnbQbC1wrXhhCQiIiJyeNJNcHpZsKANgJkVAL3DCUlERETk8KT7mPiLQK2Z3U9ygb7rgBdCi0pEQpeLK3hns34RyW3pJjh/S3Jn7+sBI5nwPBBWUCISvlxewTvs+uOym7JIPks3wbnZ3eeQXM0YADOrAeaEEpWIiIjIYUh3Ds6MdsquymAcIiIiIhnT2UrGVwBTgZPM7LmUr4qAT8IMTERERKS7OhuiegPYDBQDv0kp3w6sDCso6Tm+P2Uq25o3Rx1G3hh0wlDtEC8ikgGdrWS8HlgPnJGdcKSn2da8OZTVYqV9WkVXRCQzOhuies3dJ5rZdpKPh+/7CnB3PyrU6ERERES6obMenInBe1F2whERERE5fJ314PQhuajfySTn3Dzk7nuyEZiIiIhId3U2yfhhYDfw/4Dzgf8G1KRbuZk1kpyQvBfY4+7jzOwY4AmgHGgELg/2tpIeqLi0TPNCskir6PYMUy//Hpu36seS5Iehg0tp3PRx1GFkXGcJzqnu/tcAZvY74E/duEe1u29LOb4dWOzud5nZ7cHx33WjXsmCJxc+RlVVVdRhiGTV5q2f4bOijkIkO2xWc9QhhKKzhf52t33I4NDURSR7hgjeL85QvSIiIiJA5z04o83sy+CzAX2D43SfonLgRTNz4J/dfT5Q6u6bSVaw2cyOa+9CM5tJcv8rSkpKtDdMRFpaWtT2EVHbi0i2tP2sidPPnc6eoio4zPonuHtTkMS8ZGZr070wSIbmA1RUVLiGSaKRSCQ0RBURtb2IZEvbz5o4/dxJd7PNbnH3puB9i5k9DYwHms2sLOi9KQO2hBmDiEhXlZUMxGZpkrHkh6GDS6MOIRShJThm1h/o5e7bg8/nAv8APEdy8867gvdnw4pBRKQ7Hqv9fWx+i81FcepFkOiE2YNTCjxtZm33eczdXzCzpUCtmf0Q2AB8P8QYREREJA+FluC4+wfA6HbKPwHOCuu+IiIiIp09Ji4iIiKSc5TgiIiISOwowREREZHYUYIjIiIisaMER0RERGJHCY6IiIjEjhIcERERiR0lOCIiIhI7SnBEREQkdpTgiIiISOwowREREZHYUYIjIiIisaMER0RERGJHCY6IiIjEjhIcERERiR0lOCIiIhI7oSc4ZlZgZsvN7PngeJaZfWRm9cHr/LBjEBERkfxyRBbuUQOsAY5KKZvt7ndn4d4iIiKSh0LtwTGzIcAFwINh3kdEREQklbl7eJWbLQJ+BRQBP3H3yWY2C7gK+BJYBvzY3T9r59qZwEyAkpKSsbW1taHFKYfW0tJCYWFh1GHkJbV9dNT20VL7RycX2766urrO3ccdWB5agmNmk4Hz3f0GM6viLwlOKbANcOBOoMzdr+moroqKCl+3bl0ocUrHEokEVVVVUYeRl9T20VHbR0vtH51cbHszazfBCXMOzgTgwmAScR/gKDN71N2npQT1APB8iDGIiIhIHgptDo67/8zdh7h7OTAFeMXdp5lZWcpplwCrwopBRERE8lM2nqI60D+aWSXJIapG4EcRxCAiIiIxlpUEx90TQCL4PD0b9xQREZH8pZWMRUREJHaU4IiIiEjsKMEByoccj5ll/FU+5PjQ6g+z7tT6RUREclEUk4x7nPUfNeOzMl+vzWoOrf4w606tX0REJBepB0dERERiRwmOiIiIxI4SHBEREYkdzcEBhg4uDWXOydDBpaHVH2bdqfWLiIjkIiU4QOOmj3O2/rBjFxERyUUaohIREZHYUYIjIiIisaMER0RERGJHCY5InsrFFby1ireIpEuTjEXyVC6u4J3N+kUkt6kHR0RERGJHCY6IiIjEjhIcERERiZ3Q5+CYWQGwDPjI3Seb2THAE0A50Ahc7u6fhR2HiOwvF1fwzmb9IpLbstGDUwOsSTm+HVjs7sOBxcGxiGRZ46aPcfeMv9pW1871+kUkt4Wa4JjZEOAC4MGU4ouAh4PPDwMXhxmDiIiI5B9z9/AqN1sE/AooAn4SDFF97u4DUs75zN0HtnPtTGAmQElJydja2trQ4pRDa2lpobCwMOow8pLaPjpq+2ip/aOTi21fXV1d5+7jDiwPbQ6OmU0Gtrh7nZlVdfV6d58PzAeoqKjwqqouVyEZkEgkUNtHQ20fHbV9tNT+0YlT24c5yXgCcKGZnQ/0AY4ys0eBZjMrc/fNZlYGbAkxBjlMUy//Hpu3ag54tgwdXKo5ICIiGRBaguPuPwN+BhD04PzE3aeZ2a+BGcBdwfuzYcUgh2/z1s9CWS1W2qdVdEVEMiOKdXDuAs4xs/eBc4JjERERkYzJyl5U7p4AEsHnT4CzsnFfERERyU9ayVhERERiRwmOiIiIxE5Whqgkd5WVDMRm6SmqbNE2AT2Dnh6UfBLXpzeV4EiHHqv9fWzWRBBJl54elHwS16c3NUQlIiIisaMER0RERGJHCY6IiIjEjubgiIgcQJPrJZ/E9eEGJTgiIgfQ5PpoxWnDR4mOhqhEREQkdpTgiIiISOwowREREZHYMXePOoZOmdl2YF3UceSpYmBb1EHkKbV9dNT20VL7RycX236ou5ccWJgrk4zXufu4qIPIR2a2TG0fDbV9dNT20VL7RydOba8hKhEREYkdJTgiIiISO7mS4MyPOoA8praPjto+Omr7aKn9oxObts+JScYiIiIiXZErPTgiIiIiaVOCIyIiIrHToxMcMzvPzNaZ2X+Z2e1Rx5NPzOwhM9tiZquijiXfmNkJZrbEzNaY2btmVhN1TPnCzPqY2Z/MbEXQ9r+IOqZ8Y2YFZrbczJ6POpZ8YmaNZvaOmdWb2bKo48mEHjsHx8wKgPeAc4BNwFLgCndfHWlgecLMJgEtwL+6+8io48knZlYGlLn7f5pZEVAHXKx/++EzMwP6u3uLmR0JvAbUuPtbEYeWN8zsNmAccJS7T446nnxhZo3AOHfPtUX+Dqkn9+CMB/7L3T9w913AQuCiiGPKG+7+H8CnUceRj9x9s7v/Z/B5O7AGGBxtVPnBk1qCwyODV8/8LTCGzGwIcAHwYNSxSO7ryQnOYGBjyvEm9ENe8oyZlQNjgLejjSR/BEMk9cAW4CV3V9tnzz3A3wKtUQeShxx40czqzGxm1MFkQk9OcKydMv0mJXnDzAqBp4Bb3P3LqOPJF+6+190rgSHAeDPTEG0WmNlkYIu710UdS56a4O6nAd8BbgymKeS0npzgbAJOSDkeAjRFFItIVgXzP54CFrj776OOJx+5++dAAjgv4lDyxQTgwmAuyELgW2b2aLQh5Q93bwretwBPk5wmktN6coKzFBhuZieZWW9gCvBcxDGJhC6Y6Po7YI27/1PU8eQTMysxswHB577A2cDaaKPKD+7+M3cf4u7lJH/ev+Lu0yIOKy+YWf/ggQbMrD9wLpDzT9D22ATH3fcANwH/TnKSZa27vxttVPnDzB4H3gQqzGyTmf0w6pjyyARgOsnfYOuD1/lRB5UnyoAlZraS5C9ZL7m7HleWuCsFXjOzFcCfgH9z9xcijumw9djHxEVERES6q8f24IiIiIh0lxIcERERiR0lOCIiIhI7SnBEREQkdpTgiIiISOwowRGRdpnZsSmPqX9sZh+lHL8R0j3HmFmP2YfIzP7FzC7r4PubzOzqbMYkIuk5IuoARKRncvdPgEoAM5sFtLj73SHf9u+BX4Z8j0x6CHgd+D9RByIi+1MPjoh0mZm1BO9VZvaqmdWa2XtmdpeZXWlmfzKzd8xsWHBeiZk9ZWZLg9eEduosAka5+4rg+L+n9BgtT1lp9adBHSvN7Bcp1/9NULbCzB4Jyoaa2eKgfLGZnRiU/4uZzTWzN8zsg7ZeGku618xWm9m/Acel1H9XUL7SzO4GcPedQKOZ5fyy9iJxox4cETlco4ERwKfAB8CD7j7ezGqAm4FbgDnAbHd/LUgy/j24JtU49l8e/ifAje7+erDx6Fdmdi4wnOQ+OQY8F2wK+AlwB8kNA7eZ2TFBHfcC/+ruD5vZNcBc4OLguzJgInAKyW1gFgGXABXAX5Nc3XU18FBQ3yXAKe7ubds5BJYB3yS5AqyI9BBKcETkcC11980AZtYAvBiUvwNUB5/PBk5NbrMFwFFmVuTu21PqKQO2phy/DvyTmS0Afu/um4IE51xgeXBOIcmEZzSwyN23Abj7p8H3ZwDfCz4/AvxjSv3PuHsrsNrMSoOyScDj7r4XaDKzV4LyL4GvgAeDnp3U7Ru2kEySRKQH0RCViByur1M+t6Yct/KXX6J6AWe4e2XwGnxAcgPwZ6BP24G73wX8D6Av8JaZnUKy1+ZXKfWc7O6/C8rT2Xcm9ZzUuO0Q57TFsodkr9FTJHuAUvfp6RPELiI9iBIcEcmGF0lunguAmVW2c84a4OSUc4a5+zvu/r9JDgOdQnJo65pgyAozG2xmxwGLgcvN7NigvG2I6g2SO1MDXAm81kmc/wFMMbMCMysj6IEK7ne0u/+R5JBbavx/RQx2XhaJGw1RiUg2/E9gXrBL9xEkE4nrUk9w97VmdnTK0NUtZlYN7CU5F+b/uvvXZjYCeDMY7moBprn7u2b2v4BXzWwvySGsq4L7PmRmPyU5/NXZI91PA98iObz2HvBqUF4EPGtmfUj29tyacs0E4BeISI+i3cRFpMcws1uB7e7eY9bC6YiZjQFuc/fpUcciIvvTEJWI9CT3sf/cmJ6uGPh51EGIyMHUgyMiIiKxox4cERERiR0lOCIiIhI7SnBEREQkdpTgiIiISOwowREREZHY+f/vjt27Y9H1nQAAAABJRU5ErkJggg==)"
   ]
  },
  {
   "cell_type": "code",
   "execution_count": 18,
   "metadata": {
    "id": "v2t7c2xQRh_G"
   },
   "outputs": [],
   "source": [
    "def convert_to_piano_roll():\n",
    "    fig = plt.figure()\n",
    "    ax = fig.add_subplot(111)\n",
    "\n",
    "    for i in range(y.shape[0]):\n",
    "        onset = X[i][0]\n",
    "        pitch = X[i][2]\n",
    "        duration = X[i][1]\n",
    "        rect = patches.Rectangle((onset,pitch),width=duration,height=1,color =y[i])\n",
    "        ax.add_patch(rect)\n",
    "\n",
    "    plt.xlim([0,6])\n",
    "    plt.ylim([20,80])\n",
    "    plt.xlabel('Time')\n",
    "    plt.ylabel('Pitch')\n",
    "    plt.grid()\n",
    "    orange_patch = patches.Patch(color='orange', label='Left hand')\n",
    "    blue_patch = patches.Patch(color='blue', label = 'Right hand')\n",
    "    plt.legend(handles=[orange_patch,blue_patch])\n",
    "    plt.show()\n",
    "    \n",
    "\n",
    "# score = convert_to_piano_roll(midi_data)\n",
    "# libfmp.c1.visualize_piano_roll(score, figsize=(8, 3), velocity_alpha=True);\n",
    "\n",
    "    \n",
    "    "
   ]
  },
  {
   "cell_type": "code",
   "execution_count": 19,
   "metadata": {},
   "outputs": [
    {
     "data": {
      "image/png": "[encoded data removed]",
      "text/plain": [
       "<Figure size 432x288 with 1 Axes>"
      ]
     },
     "metadata": {
      "needs_background": "light"
     },
     "output_type": "display_data"
    }
   ],
   "source": [
    "convert_to_piano_roll()"
   ]
  },
  {
   "cell_type": "markdown",
   "metadata": {
    "id": "Yf8Xrg8nRh_H"
   },
   "source": [
    "## PrettyMIDI ##\n",
    "\n",
    "MIDI is another important music transcription. **[PrettyMIDI](https://github.com/craffel/pretty-midi)** is an important Python library for MIDI visualization, manipulation and interpretation. Read more about this library since it will be very useful for our project. \n"
   ]
  },
  {
   "cell_type": "markdown",
   "metadata": {
    "id": "18AL0Nv9Rh_H"
   },
   "source": [
    "## Question 3 ##\n",
    "\n",
    "Download any MIDI file from the internet and copy it to the same directory as that of this notebook. \n",
    "Dig deeper into PrettyMIDI and try to visualise the MIDI file in a form of table consisting of easy to understand notes events. Basically, you will have to convert the standard MIDI data into a standard python list using PrettyMIDI and display the events in the form of table with each event described by the parameters : Start, End, Pitch, Velocity and the Instrument. You can show the final output using Pandas Dataframe as well. \n"
   ]
  },
  {
   "cell_type": "code",
   "execution_count": 26,
   "metadata": {
    "id": "iSQJTWGQRh_H"
   },
   "outputs": [
    {
     "data": {
      "text/html": [
       "<table border=\"1\" class=\"dataframe\">\n",
       "  <thead>\n",
       "    <tr style=\"text-align: right;\">\n",
       "      <th>Start</th>\n",
       "      <th>End</th>\n",
       "      <th>Pitch</th>\n",
       "      <th>Velocity</th>\n",
       "      <th>Instrument</th>\n",
       "    </tr>\n",
       "  </thead>\n",
       "  <tbody>\n",
       "  </tbody>\n",
       "</table>"
      ],
      "text/plain": [
       "<IPython.core.display.HTML object>"
      ]
     },
     "execution_count": 26,
     "metadata": {},
     "output_type": "execute_result"
    }
   ],
   "source": [
    "from matplotlib import colors\n",
    "import sys\n",
    "import pretty_midi\n",
    "import pandas as pd\n",
    "import IPython.display as ipd\n",
    "\n",
    "sys.path.append('..')\n",
    "\n",
    "midi_data = pretty_midi.PrettyMIDI()\n",
    "midi_list = []\n",
    "\n",
    "for instrument in midi_data.instruments:\n",
    "    for note in instrument.notes:\n",
    "        start = note.start\n",
    "        duration = note.duration\n",
    "        pitch = note.pitch\n",
    "        velocity = note.velocity\n",
    "        midi_list.append([start, end, pitch, velocity, instrument.name])\n",
    "        \n",
    "midi_list = sorted(midi_list, key=lambda x: (x[0], x[2]))\n",
    "\n",
    "df = pd.DataFrame(midi_list, columns=['Start', 'End', 'Pitch', 'Velocity', 'Instrument'])\n",
    "html = df.to_html(index=False)\n",
    "ipd.HTML(html)"
   ]
  },
  {
   "cell_type": "markdown",
   "metadata": {
    "id": "E9RvlchjRh_H"
   },
   "source": [
    "These questions might be difficult for you, considering you have no Python experience. But it is the time to finally learn this language properly. You do not need to do brain storming in any question since these questions demand simple implementation of whatever you have learnt in the chapter 1 of music representations. \n",
    "So, with little efforts, you can easily solve the assignment. ALL THE BEST!\n",
    "In case you have any doubts, feel free to discuss on Discord channel. "
   ]
  }
 ],
 "metadata": {
  "colab": {
   "collapsed_sections": [],
   "name": "Music Representations.ipynb",
   "provenance": []
  },
  "kernelspec": {
   "display_name": "Python 3",
   "language": "python",
   "name": "python3"
  },
  "language_info": {
   "codemirror_mode": {
    "name": "ipython",
    "version": 3
   },
   "file_extension": ".py",
   "mimetype": "text/x-python",
   "name": "python",
   "nbconvert_exporter": "python",
   "pygments_lexer": "ipython3",
   "version": "3.7.6"
  }
 },
 "nbformat": 4,
 "nbformat_minor": 1
}
